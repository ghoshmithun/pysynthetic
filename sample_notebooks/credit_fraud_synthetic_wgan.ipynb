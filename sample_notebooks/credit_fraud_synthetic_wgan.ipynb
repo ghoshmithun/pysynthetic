{
 "cells": [
  {
   "cell_type": "markdown",
   "metadata": {
    "collapsed": true,
    "id": "Ip9x8owl28DA",
    "pycharm": {
     "name": "#%% md\n"
    }
   },
   "source": [
    "# The credit fraud dataset - Synthesizing the minority class\n",
    "In this notebook it's presented a practical exercise of how to use the avilable library GANs to synthesize tabular data.\n",
    "For the purpose of this exercise it has been used the Credit Fraud dataset from Kaggle, that you can find here:https: //www.kaggle.com/mlg-ulb/creditcardfraud"
   ]
  },
  {
   "cell_type": "code",
   "execution_count": 29,
   "metadata": {
    "id": "t-PezNrU28DG",
    "pycharm": {
     "name": "#%%\n"
    }
   },
   "outputs": [],
   "source": [
    "#Install pysynthetic lib\n",
    "#!pip install git+https://github.com/ghoshmithun/pysynthetic.git"
   ]
  },
  {
   "cell_type": "code",
   "execution_count": 2,
   "metadata": {
    "id": "m9Vu8YIJ28DG",
    "pycharm": {
     "name": "#%%\n"
    }
   },
   "outputs": [
    {
     "ename": "ModuleNotFoundError",
     "evalue": "No module named 'synthetic_module'",
     "output_type": "error",
     "traceback": [
      "\u001b[1;31m---------------------------------------------------------------------------\u001b[0m",
      "\u001b[1;31mModuleNotFoundError\u001b[0m                       Traceback (most recent call last)",
      "\u001b[1;32m<ipython-input-2-4e65e99d987a>\u001b[0m in \u001b[0;36m<module>\u001b[1;34m\u001b[0m\n\u001b[0;32m     13\u001b[0m \u001b[1;31m#If you have installation problem. Be on the root directory so that synthesizers are found\u001b[0m\u001b[1;33m\u001b[0m\u001b[1;33m\u001b[0m\u001b[1;33m\u001b[0m\u001b[0m\n\u001b[0;32m     14\u001b[0m \u001b[1;33m\u001b[0m\u001b[0m\n\u001b[1;32m---> 15\u001b[1;33m \u001b[1;32mfrom\u001b[0m \u001b[0msynthesizers\u001b[0m\u001b[1;33m.\u001b[0m\u001b[0mregular\u001b[0m \u001b[1;32mimport\u001b[0m \u001b[0mWGAN_GP\u001b[0m\u001b[1;33m\u001b[0m\u001b[1;33m\u001b[0m\u001b[0m\n\u001b[0m\u001b[0;32m     16\u001b[0m \u001b[1;32mfrom\u001b[0m \u001b[0mpreprocessing\u001b[0m\u001b[1;33m.\u001b[0m\u001b[0mregular\u001b[0m\u001b[1;33m.\u001b[0m\u001b[0mcredit_fraud\u001b[0m \u001b[1;32mimport\u001b[0m \u001b[1;33m*\u001b[0m\u001b[1;33m\u001b[0m\u001b[1;33m\u001b[0m\u001b[0m\n\u001b[0;32m     17\u001b[0m \u001b[1;33m\u001b[0m\u001b[0m\n",
      "\u001b[1;32mc:\\users\\mithu\\pycharmprojects\\synthetic_data\\synthetic_module\\synthesizers\\regular\\__init__.py\u001b[0m in \u001b[0;36m<module>\u001b[1;34m\u001b[0m\n\u001b[1;32m----> 1\u001b[1;33m \u001b[1;32mfrom\u001b[0m \u001b[0msynthetic_module\u001b[0m\u001b[1;33m.\u001b[0m\u001b[0msynthesizers\u001b[0m\u001b[1;33m.\u001b[0m\u001b[0mregular\u001b[0m\u001b[1;33m.\u001b[0m\u001b[0mcgan\u001b[0m\u001b[1;33m.\u001b[0m\u001b[0mmodel\u001b[0m \u001b[1;32mimport\u001b[0m \u001b[0mCGAN\u001b[0m\u001b[1;33m\u001b[0m\u001b[1;33m\u001b[0m\u001b[0m\n\u001b[0m\u001b[0;32m      2\u001b[0m \u001b[1;32mfrom\u001b[0m \u001b[0msynthetic_module\u001b[0m\u001b[1;33m.\u001b[0m\u001b[0msynthesizers\u001b[0m\u001b[1;33m.\u001b[0m\u001b[0mregular\u001b[0m\u001b[1;33m.\u001b[0m\u001b[0mwgan\u001b[0m\u001b[1;33m.\u001b[0m\u001b[0mmodel\u001b[0m \u001b[1;32mimport\u001b[0m \u001b[0mWGAN\u001b[0m\u001b[1;33m\u001b[0m\u001b[1;33m\u001b[0m\u001b[0m\n\u001b[0;32m      3\u001b[0m \u001b[1;32mfrom\u001b[0m \u001b[0msynthetic_module\u001b[0m\u001b[1;33m.\u001b[0m\u001b[0msynthesizers\u001b[0m\u001b[1;33m.\u001b[0m\u001b[0mregular\u001b[0m\u001b[1;33m.\u001b[0m\u001b[0mvanillagan\u001b[0m\u001b[1;33m.\u001b[0m\u001b[0mmodel\u001b[0m \u001b[1;32mimport\u001b[0m \u001b[0mVanilllaGAN\u001b[0m\u001b[1;33m\u001b[0m\u001b[1;33m\u001b[0m\u001b[0m\n\u001b[0;32m      4\u001b[0m \u001b[1;32mfrom\u001b[0m \u001b[0msynthetic_module\u001b[0m\u001b[1;33m.\u001b[0m\u001b[0msynthesizers\u001b[0m\u001b[1;33m.\u001b[0m\u001b[0mregular\u001b[0m\u001b[1;33m.\u001b[0m\u001b[0mwgangp\u001b[0m\u001b[1;33m.\u001b[0m\u001b[0mmodel\u001b[0m \u001b[1;32mimport\u001b[0m \u001b[0mWGAN_GP\u001b[0m\u001b[1;33m\u001b[0m\u001b[1;33m\u001b[0m\u001b[0m\n\u001b[0;32m      5\u001b[0m \u001b[1;32mfrom\u001b[0m \u001b[0msynthetic_module\u001b[0m\u001b[1;33m.\u001b[0m\u001b[0msynthesizers\u001b[0m\u001b[1;33m.\u001b[0m\u001b[0mregular\u001b[0m\u001b[1;33m.\u001b[0m\u001b[0mdragan\u001b[0m\u001b[1;33m.\u001b[0m\u001b[0mmodel\u001b[0m \u001b[1;32mimport\u001b[0m \u001b[0mDRAGAN\u001b[0m\u001b[1;33m\u001b[0m\u001b[1;33m\u001b[0m\u001b[0m\n",
      "\u001b[1;31mModuleNotFoundError\u001b[0m: No module named 'synthetic_module'"
     ]
    }
   ],
   "source": [
    "import importlib\n",
    "import sys  \n",
    "\n",
    "import pandas as pd\n",
    "import numpy as np\n",
    "import sklearn.cluster as cluster\n",
    "import matplotlib.pyplot as plt\n",
    "\n",
    "#If you install the above package then you should be able to use\n",
    "# from pysynthetic.synthesizers.regular import VanilllaGAN\n",
    "# from pysynthetic.preprocessing.regular.credit_fraud import *\n",
    "\n",
    "#If you have installation problem. Be on the root directory so that synthesizers are found\n",
    "\n",
    "from synthesizers.regular import WGAN_GP\n",
    "from preprocessing.regular.credit_fraud import *\n",
    "\n",
    "model = WGAN_GP"
   ]
  },
  {
   "cell_type": "code",
   "execution_count": null,
   "metadata": {
    "id": "yRJjNXRk28DH",
    "pycharm": {
     "name": "#%%\n"
    }
   },
   "outputs": [],
   "source": [
    "#Read the original data and have it preprocessed\n",
    "data = pd.read_csv('C:/Users/mithu/Desktop/synthetic_data/csv/creditcard.csv', index_col=[0])"
   ]
  },
  {
   "cell_type": "code",
   "execution_count": null,
   "metadata": {
    "id": "lekjOg3L28DH",
    "outputId": "846f6190-54dd-47a3-ee15-fa2f5b1e4329"
   },
   "outputs": [],
   "source": [
    "data_cols = list(data.columns[ data.columns != 'Class' ])\n",
    "label_cols = ['Class']\n",
    "\n",
    "print('Dataset columns: {}'.format(data_cols))\n",
    "sorted_cols = ['V14', 'V4', 'V10', 'V17', 'V12', 'V26', 'Amount', 'V21', 'V8', 'V11', 'V7', 'V28', 'V19', 'V3', 'V22', 'V6', 'V20', 'V27', 'V16', 'V13', 'V25', 'V24', 'V18', 'V2', 'V1', 'V5', 'V15', 'V9', 'V23', 'Class']\n",
    "processed_data = data[ sorted_cols ].copy()"
   ]
  },
  {
   "cell_type": "code",
   "execution_count": null,
   "metadata": {
    "id": "zWU1-Ww328DI",
    "outputId": "dc9e1f7f-a254-4a17-b16b-efba0d9f11c1",
    "pycharm": {
     "name": "#%%\n"
    }
   },
   "outputs": [],
   "source": [
    "#Before training the GAN do not forget to apply the required data transformations\n",
    "#To ease here we've applied a PowerTransformation\n",
    "data = transformations(data)\n",
    "\n",
    "#For the purpose of this example we will only synthesize the minority class\n",
    "train_data = data.loc[ data['Class']==1 ].copy()\n",
    "\n",
    "print(\"Dataset info: Number of records - {} Number of varibles - {}\".format(train_data.shape[0], train_data.shape[1]))\n",
    "\n",
    "algorithm = cluster.KMeans\n",
    "args, kwds = (), {'n_clusters':2, 'random_state':0}\n",
    "labels = algorithm(*args, **kwds).fit_predict(train_data[ data_cols ])\n",
    "\n",
    "print( pd.DataFrame( [ [np.sum(labels==i)] for i in np.unique(labels) ], columns=['count'], index=np.unique(labels) ) )\n",
    "\n",
    "fraud_w_classes = train_data.copy()\n",
    "fraud_w_classes['Class'] = labels"
   ]
  },
  {
   "cell_type": "markdown",
   "metadata": {
    "id": "teucF3c928DI",
    "pycharm": {
     "name": "#%% md\n"
    }
   },
   "source": [
    "# GAN training\n",
    "\n",
    "Below you can try to train your own generators using the available GANs architectures. You can train it either with labels (created using KMeans) or with no labels at all. \n",
    "\n",
    "Remeber that for this exercise in particular we've decided to synthesize only the minority class from the Credit Fraud dataset."
   ]
  },
  {
   "cell_type": "code",
   "execution_count": null,
   "metadata": {
    "id": "GDi59ran28DJ",
    "pycharm": {
     "name": "#%%\n"
    }
   },
   "outputs": [],
   "source": [
    "#Define the GAN and training parameters\n",
    "noise_dim = 32\n",
    "dim = 128\n",
    "batch_size = 128\n",
    "\n",
    "log_step = 100\n",
    "epochs = 50000+1\n",
    "learning_rate = 5e-4\n",
    "beta_1 = 0.5\n",
    "beta_2 = 0.9\n",
    "models_dir = 'C:\\\\Users\\\\mithu\\\\Desktop\\\\synthetic_data\\\\creditcard\\\\save\\\\gan\\\\cache'\n",
    "\n",
    "train_sample = fraud_w_classes.copy().reset_index(drop=True)\n",
    "train_sample = pd.get_dummies(train_sample, columns=['Class'], prefix='Class', drop_first=True)\n",
    "label_cols = [ i for i in train_sample.columns if 'Class' in i ]\n",
    "data_cols = [ i for i in train_sample.columns if i not in label_cols ]\n",
    "train_sample[ data_cols ] = train_sample[ data_cols ] / 10 # scale to random noise size, one less thing to learn\n",
    "train_no_label = train_sample[ data_cols ]\n",
    "\n",
    "gan_args = [batch_size, learning_rate, beta_1, beta_2, noise_dim, train_sample.shape[1], dim]\n",
    "train_args = ['', epochs, log_step]"
   ]
  },
  {
   "cell_type": "code",
   "execution_count": null,
   "metadata": {
    "id": "WxL6H8lv28DJ",
    "outputId": "74f3d346-c18a-4ca3-c942-f5aaceafdd7c",
    "pycharm": {
     "name": "#%%\n"
    }
   },
   "outputs": [],
   "source": [
    "#Training the GAN model chosen: Vanilla GAN, CGAN, DCGAN, etc.\n",
    "synthesizer = model(gan_args)\n",
    "synthesizer.train(train_sample, train_args)"
   ]
  },
  {
   "cell_type": "code",
   "execution_count": null,
   "metadata": {
    "id": "heJxuqKD28DJ",
    "outputId": "fe23feb0-d5c2-4470-d83d-ebd5374d87fe",
    "scrolled": true
   },
   "outputs": [],
   "source": [
    "#Generator discription\n",
    "synthesizer.generator.summary()"
   ]
  },
  {
   "cell_type": "code",
   "execution_count": null,
   "metadata": {
    "id": "KRuwp_a828DK",
    "outputId": "4e95cb39-c9c5-4b8a-92bd-a9f2b2f7a910",
    "pycharm": {
     "name": "#%%\n"
    }
   },
   "outputs": [],
   "source": [
    "#Discriminator description\n",
    "synthesizer.discriminator.summary()"
   ]
  },
  {
   "cell_type": "code",
   "execution_count": null,
   "metadata": {},
   "outputs": [],
   "source": [
    "# !mkdir -p C:\\\\Users\\\\mithu\\\\Desktop\\\\synthetic_data\\\\creditcard\\\\save\\\\gan"
   ]
  },
  {
   "cell_type": "code",
   "execution_count": null,
   "metadata": {
    "id": "1M2rFdh928DK",
    "outputId": "3a2f05ea-eab8-43e1-864b-3b1dba6571cf",
    "pycharm": {
     "name": "#%%\n"
    }
   },
   "outputs": [],
   "source": [
    "#You can easily save the trained generator and loaded it aftwerwards\n",
    "synthesizer.save(\"C:\\\\Users\\\\mithu\\\\Desktop\\\\synthetic_data\\\\creditcard\\\\save\\\\gan\\\\generator_fraud\")"
   ]
  },
  {
   "cell_type": "code",
   "execution_count": null,
   "metadata": {
    "id": "Rs80muCJ28DK"
   },
   "outputs": [],
   "source": [
    "models = {'GAN': ['GAN', False, synthesizer.generator]}"
   ]
  },
  {
   "cell_type": "code",
   "execution_count": null,
   "metadata": {
    "id": "AWTXX_pr28DK",
    "outputId": "6f919fd4-58f7-4edf-f294-dc7ebda9b15b",
    "pycharm": {
     "name": "#%%\n"
    }
   },
   "outputs": [],
   "source": [
    "# Setup parameters visualization parameters\n",
    "seed = 17\n",
    "test_size = 492 # number of fraud cases\n",
    "noise_dim = 32\n",
    "\n",
    "np.random.seed(seed)\n",
    "z = np.random.normal(size=(test_size, noise_dim))\n",
    "real = synthesizer.get_data_batch(train=train_sample, batch_size=test_size, seed=seed)\n",
    "real_samples = pd.DataFrame(real, columns=data_cols+label_cols)\n",
    "labels = fraud_w_classes['Class']\n",
    "\n",
    "model_names = ['GAN']\n",
    "colors = ['deepskyblue','blue']\n",
    "markers = ['o','^']\n",
    "class_labels = ['Class 1','Class 2']\n",
    "\n",
    "col1, col2 = 'V17', 'V10'\n",
    "\n",
    "base_dir = 'cache/'\n",
    "\n",
    "#Actual fraud data visualization\n",
    "model_steps = [ 0, 2000, 5000,10000,30000,5000]\n",
    "rows = len(model_steps)\n",
    "columns = 5\n",
    "\n",
    "axarr = [[]]*len(model_steps)\n",
    "\n",
    "fig = plt.figure(figsize=(14,rows*3))\n",
    "\n",
    "for model_step_ix, model_step in enumerate(model_steps):        \n",
    "    axarr[model_step_ix] = plt.subplot(rows, columns, model_step_ix*columns + 1)\n",
    "    \n",
    "    for group, color, marker, label in zip(real_samples.groupby('Class_1'), colors, markers, class_labels ):\n",
    "        plt.scatter( group[1][[col1]], group[1][[col2]], \n",
    "                         label=label, marker=marker, edgecolors=color, facecolors='none' )\n",
    "    \n",
    "    plt.title('Actual Fraud Data')\n",
    "    plt.ylabel(col2) # Only add y label to left plot\n",
    "    plt.xlabel(col1)\n",
    "    xlims, ylims = axarr[model_step_ix].get_xlim(), axarr[model_step_ix].get_ylim()\n",
    "    \n",
    "    if model_step_ix == 0: \n",
    "        legend = plt.legend()\n",
    "        legend.get_frame().set_facecolor('white')\n",
    "    \n",
    "    for i, model_name in enumerate( model_names[:] ):\n",
    "\n",
    "        [model_name, with_class, generator_model] = models[model_name]\n",
    "\n",
    "        generator_model.load_weights( base_dir + '_generator_model_weights_step_'+str(model_step)+'.h5')\n",
    "\n",
    "        ax = plt.subplot(rows, columns, model_step_ix*columns + 1 + (i+1) )\n",
    "\n",
    "        if with_class:\n",
    "            g_z = generator_model.predict([z, labels])\n",
    "            gen_samples = pd.DataFrame(g_z, columns=data_cols+label_cols)\n",
    "            for group, color, marker, label in zip( gen_samples.groupby('Class_1'), colors, markers, class_labels ):\n",
    "                plt.scatter( group[1][[col1]], group[1][[col2]], \n",
    "                                 label=label, marker=marker, edgecolors=color, facecolors='none' )\n",
    "        else:\n",
    "            g_z = generator_model.predict(z)\n",
    "            gen_samples = pd.DataFrame(g_z, columns=data_cols+['label'])\n",
    "            gen_samples.to_csv('Generated_sample.csv')\n",
    "            plt.scatter( gen_samples[[col1]], gen_samples[[col2]], \n",
    "                             label=class_labels[0], marker=markers[0], edgecolors=colors[0], facecolors='none' )\n",
    "        plt.title(model_name)   \n",
    "        plt.xlabel(data_cols[0])\n",
    "        ax.set_xlim(xlims), ax.set_ylim(ylims)\n",
    "\n",
    "plt.suptitle('Comparison of GAN outputs', size=16, fontweight='bold')\n",
    "plt.tight_layout(rect=[0.075,0,1,0.95])\n",
    "\n",
    "# Adding text labels for traning steps\n",
    "vpositions = np.array([ i._position.bounds[1] for i in axarr ])\n",
    "vpositions += ((vpositions[0] - vpositions[1]) * 0.35 )\n",
    "for model_step_ix, model_step in enumerate( model_steps ):\n",
    "    fig.text( 0.05, vpositions[model_step_ix], 'training\\nstep\\n'+str(model_step), ha='center', va='center', size=12)\n",
    "\n",
    "plt.savefig('Comparison_of_GAN_outputs.png')\n"
   ]
  }
 ],
 "metadata": {
  "colab": {
   "name": "gan_example.ipynb",
   "provenance": []
  },
  "kernelspec": {
   "display_name": "Python 3",
   "language": "python",
   "name": "python3"
  },
  "language_info": {
   "codemirror_mode": {
    "name": "ipython",
    "version": 3
   },
   "file_extension": ".py",
   "mimetype": "text/x-python",
   "name": "python",
   "nbconvert_exporter": "python",
   "pygments_lexer": "ipython3",
   "version": "3.8.8"
  }
 },
 "nbformat": 4,
 "nbformat_minor": 1
}
