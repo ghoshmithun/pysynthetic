{
 "cells": [
  {
   "cell_type": "code",
   "execution_count": 1,
   "metadata": {
    "id": "FGzo4LZqjOWA"
   },
   "outputs": [],
   "source": [
    "#Uncomment to install pysynthetic lib\n",
    "# ! pip install git+https://github.com/ghoshmithun/pysynthetic.git"
   ]
  },
  {
   "cell_type": "code",
   "execution_count": 1,
   "metadata": {},
   "outputs": [
    {
     "name": "stdout",
     "output_type": "stream",
     "text": [
      "/Users/mghosh2/Documents/pysynthetic/sample_notebooks\r\n"
     ]
    }
   ],
   "source": [
    "!pwd"
   ]
  },
  {
   "cell_type": "code",
   "execution_count": 2,
   "metadata": {},
   "outputs": [
    {
     "name": "stdout",
     "output_type": "stream",
     "text": [
      "/Users/mghosh2/Documents/pysynthetic\n"
     ]
    }
   ],
   "source": [
    "%cd .."
   ]
  },
  {
   "cell_type": "code",
   "execution_count": null,
   "metadata": {},
   "outputs": [],
   "source": [
    "%cd p"
   ]
  },
  {
   "cell_type": "code",
   "execution_count": 6,
   "metadata": {},
   "outputs": [
    {
     "name": "stdout",
     "output_type": "stream",
     "text": [
      "Obtaining file:///Users/mghosh2/Documents/pysynthetic\n",
      "Requirement already satisfied: pandas==1.2.1 in /Users/mghosh2/miniconda3/lib/python3.8/site-packages (from synthetic-data==0.0.0) (1.2.1)\n",
      "Requirement already satisfied: numpy in /Users/mghosh2/miniconda3/lib/python3.8/site-packages (from synthetic-data==0.0.0) (1.19.5)\n",
      "Requirement already satisfied: scikit-learn==0.22.1 in /Users/mghosh2/miniconda3/lib/python3.8/site-packages (from synthetic-data==0.0.0) (0.22.1)\n",
      "Collecting matplotlib==3.3.2\n",
      "  Using cached matplotlib-3.3.2-cp38-cp38-macosx_10_9_x86_64.whl (8.5 MB)\n",
      "Requirement already satisfied: seaborn==0.11.1 in /Users/mghosh2/miniconda3/lib/python3.8/site-packages (from synthetic-data==0.0.0) (0.11.1)\n",
      "Requirement already satisfied: tensorflow==2.4.1 in /Users/mghosh2/miniconda3/lib/python3.8/site-packages (from synthetic-data==0.0.0) (2.4.1)\n",
      "Requirement already satisfied: tensorflow-privacy==0.5.1 in /Users/mghosh2/miniconda3/lib/python3.8/site-packages (from synthetic-data==0.0.0) (0.5.1)\n",
      "Requirement already satisfied: easydict==1.9 in /Users/mghosh2/miniconda3/lib/python3.8/site-packages (from synthetic-data==0.0.0) (1.9)\n",
      "Requirement already satisfied: pmlb==1.0.1 in /Users/mghosh2/miniconda3/lib/python3.8/site-packages (from synthetic-data==0.0.0) (1.0.1)\n",
      "Requirement already satisfied: tqdm<5.0 in /Users/mghosh2/miniconda3/lib/python3.8/site-packages (from synthetic-data==0.0.0) (4.56.0)\n",
      "Requirement already satisfied: pyparsing!=2.0.4,!=2.1.2,!=2.1.6,>=2.0.3 in /Users/mghosh2/miniconda3/lib/python3.8/site-packages (from matplotlib==3.3.2->synthetic-data==0.0.0) (2.4.7)\n",
      "Requirement already satisfied: pillow>=6.2.0 in /Users/mghosh2/miniconda3/lib/python3.8/site-packages (from matplotlib==3.3.2->synthetic-data==0.0.0) (8.1.2)\n",
      "Requirement already satisfied: kiwisolver>=1.0.1 in /Users/mghosh2/miniconda3/lib/python3.8/site-packages (from matplotlib==3.3.2->synthetic-data==0.0.0) (1.3.1)\n",
      "Requirement already satisfied: python-dateutil>=2.1 in /Users/mghosh2/miniconda3/lib/python3.8/site-packages (from matplotlib==3.3.2->synthetic-data==0.0.0) (2.8.1)\n",
      "Requirement already satisfied: cycler>=0.10 in /Users/mghosh2/miniconda3/lib/python3.8/site-packages (from matplotlib==3.3.2->synthetic-data==0.0.0) (0.10.0)\n",
      "Requirement already satisfied: certifi>=2020.06.20 in /Users/mghosh2/miniconda3/lib/python3.8/site-packages (from matplotlib==3.3.2->synthetic-data==0.0.0) (2020.12.5)\n",
      "Requirement already satisfied: pytz>=2017.3 in /Users/mghosh2/miniconda3/lib/python3.8/site-packages (from pandas==1.2.1->synthetic-data==0.0.0) (2021.1)\n",
      "Requirement already satisfied: pyyaml>=5.3.1 in /Users/mghosh2/miniconda3/lib/python3.8/site-packages (from pmlb==1.0.1->synthetic-data==0.0.0) (5.4.1)\n",
      "Requirement already satisfied: requests>=2.24.0 in /Users/mghosh2/miniconda3/lib/python3.8/site-packages (from pmlb==1.0.1->synthetic-data==0.0.0) (2.25.1)\n",
      "Requirement already satisfied: joblib>=0.11 in /Users/mghosh2/miniconda3/lib/python3.8/site-packages (from scikit-learn==0.22.1->synthetic-data==0.0.0) (1.0.1)\n",
      "Requirement already satisfied: scipy>=0.17.0 in /Users/mghosh2/miniconda3/lib/python3.8/site-packages (from scikit-learn==0.22.1->synthetic-data==0.0.0) (1.6.1)\n",
      "Requirement already satisfied: wrapt~=1.12.1 in /Users/mghosh2/miniconda3/lib/python3.8/site-packages (from tensorflow==2.4.1->synthetic-data==0.0.0) (1.12.1)\n",
      "Requirement already satisfied: google-pasta~=0.2 in /Users/mghosh2/miniconda3/lib/python3.8/site-packages (from tensorflow==2.4.1->synthetic-data==0.0.0) (0.2.0)\n",
      "Requirement already satisfied: h5py~=2.10.0 in /Users/mghosh2/miniconda3/lib/python3.8/site-packages (from tensorflow==2.4.1->synthetic-data==0.0.0) (2.10.0)\n",
      "Requirement already satisfied: opt-einsum~=3.3.0 in /Users/mghosh2/miniconda3/lib/python3.8/site-packages (from tensorflow==2.4.1->synthetic-data==0.0.0) (3.3.0)\n",
      "Requirement already satisfied: flatbuffers~=1.12.0 in /Users/mghosh2/miniconda3/lib/python3.8/site-packages (from tensorflow==2.4.1->synthetic-data==0.0.0) (1.12)\n",
      "Requirement already satisfied: tensorboard~=2.4 in /Users/mghosh2/miniconda3/lib/python3.8/site-packages (from tensorflow==2.4.1->synthetic-data==0.0.0) (2.4.1)\n",
      "Requirement already satisfied: six~=1.15.0 in /Users/mghosh2/miniconda3/lib/python3.8/site-packages (from tensorflow==2.4.1->synthetic-data==0.0.0) (1.15.0)\n",
      "Requirement already satisfied: absl-py~=0.10 in /Users/mghosh2/miniconda3/lib/python3.8/site-packages (from tensorflow==2.4.1->synthetic-data==0.0.0) (0.11.0)\n",
      "Requirement already satisfied: keras-preprocessing~=1.1.2 in /Users/mghosh2/miniconda3/lib/python3.8/site-packages (from tensorflow==2.4.1->synthetic-data==0.0.0) (1.1.2)\n",
      "Requirement already satisfied: grpcio~=1.32.0 in /Users/mghosh2/miniconda3/lib/python3.8/site-packages (from tensorflow==2.4.1->synthetic-data==0.0.0) (1.32.0)\n",
      "Requirement already satisfied: typing-extensions~=3.7.4 in /Users/mghosh2/miniconda3/lib/python3.8/site-packages (from tensorflow==2.4.1->synthetic-data==0.0.0) (3.7.4.3)\n",
      "Requirement already satisfied: termcolor~=1.1.0 in /Users/mghosh2/miniconda3/lib/python3.8/site-packages (from tensorflow==2.4.1->synthetic-data==0.0.0) (1.1.0)\n",
      "Requirement already satisfied: astunparse~=1.6.3 in /Users/mghosh2/miniconda3/lib/python3.8/site-packages (from tensorflow==2.4.1->synthetic-data==0.0.0) (1.6.3)\n",
      "Requirement already satisfied: protobuf>=3.9.2 in /Users/mghosh2/miniconda3/lib/python3.8/site-packages (from tensorflow==2.4.1->synthetic-data==0.0.0) (3.15.5)\n",
      "Requirement already satisfied: tensorflow-estimator<2.5.0,>=2.4.0 in /Users/mghosh2/miniconda3/lib/python3.8/site-packages (from tensorflow==2.4.1->synthetic-data==0.0.0) (2.4.0)\n",
      "Requirement already satisfied: gast==0.3.3 in /Users/mghosh2/miniconda3/lib/python3.8/site-packages (from tensorflow==2.4.1->synthetic-data==0.0.0) (0.3.3)\n",
      "Requirement already satisfied: wheel~=0.35 in /Users/mghosh2/miniconda3/lib/python3.8/site-packages (from tensorflow==2.4.1->synthetic-data==0.0.0) (0.36.2)\n",
      "Requirement already satisfied: dm-tree~=0.1.1 in /Users/mghosh2/miniconda3/lib/python3.8/site-packages (from tensorflow-privacy==0.5.1->synthetic-data==0.0.0) (0.1.6)\n",
      "Requirement already satisfied: mpmath in /Users/mghosh2/miniconda3/lib/python3.8/site-packages (from tensorflow-privacy==0.5.1->synthetic-data==0.0.0) (1.2.1)\n",
      "Requirement already satisfied: urllib3<1.27,>=1.21.1 in /Users/mghosh2/miniconda3/lib/python3.8/site-packages (from requests>=2.24.0->pmlb==1.0.1->synthetic-data==0.0.0) (1.26.3)\n",
      "Requirement already satisfied: chardet<5,>=3.0.2 in /Users/mghosh2/miniconda3/lib/python3.8/site-packages (from requests>=2.24.0->pmlb==1.0.1->synthetic-data==0.0.0) (4.0.0)\n",
      "Requirement already satisfied: idna<3,>=2.5 in /Users/mghosh2/miniconda3/lib/python3.8/site-packages (from requests>=2.24.0->pmlb==1.0.1->synthetic-data==0.0.0) (2.10)\n",
      "Requirement already satisfied: tensorboard-plugin-wit>=1.6.0 in /Users/mghosh2/miniconda3/lib/python3.8/site-packages (from tensorboard~=2.4->tensorflow==2.4.1->synthetic-data==0.0.0) (1.8.0)\n",
      "Requirement already satisfied: google-auth-oauthlib<0.5,>=0.4.1 in /Users/mghosh2/miniconda3/lib/python3.8/site-packages (from tensorboard~=2.4->tensorflow==2.4.1->synthetic-data==0.0.0) (0.4.3)\n",
      "Requirement already satisfied: markdown>=2.6.8 in /Users/mghosh2/miniconda3/lib/python3.8/site-packages (from tensorboard~=2.4->tensorflow==2.4.1->synthetic-data==0.0.0) (3.3.4)\n",
      "Requirement already satisfied: werkzeug>=0.11.15 in /Users/mghosh2/miniconda3/lib/python3.8/site-packages (from tensorboard~=2.4->tensorflow==2.4.1->synthetic-data==0.0.0) (1.0.1)\n",
      "Requirement already satisfied: setuptools>=41.0.0 in /Users/mghosh2/miniconda3/lib/python3.8/site-packages (from tensorboard~=2.4->tensorflow==2.4.1->synthetic-data==0.0.0) (52.0.0.post20210125)\n",
      "Requirement already satisfied: google-auth<2,>=1.6.3 in /Users/mghosh2/miniconda3/lib/python3.8/site-packages (from tensorboard~=2.4->tensorflow==2.4.1->synthetic-data==0.0.0) (1.27.1)\n",
      "Requirement already satisfied: rsa<5,>=3.1.4 in /Users/mghosh2/miniconda3/lib/python3.8/site-packages (from google-auth<2,>=1.6.3->tensorboard~=2.4->tensorflow==2.4.1->synthetic-data==0.0.0) (4.7.2)\n",
      "Requirement already satisfied: pyasn1-modules>=0.2.1 in /Users/mghosh2/miniconda3/lib/python3.8/site-packages (from google-auth<2,>=1.6.3->tensorboard~=2.4->tensorflow==2.4.1->synthetic-data==0.0.0) (0.2.8)\n",
      "Requirement already satisfied: cachetools<5.0,>=2.0.0 in /Users/mghosh2/miniconda3/lib/python3.8/site-packages (from google-auth<2,>=1.6.3->tensorboard~=2.4->tensorflow==2.4.1->synthetic-data==0.0.0) (4.2.1)\n",
      "Requirement already satisfied: requests-oauthlib>=0.7.0 in /Users/mghosh2/miniconda3/lib/python3.8/site-packages (from google-auth-oauthlib<0.5,>=0.4.1->tensorboard~=2.4->tensorflow==2.4.1->synthetic-data==0.0.0) (1.3.0)\n",
      "Requirement already satisfied: pyasn1<0.5.0,>=0.4.6 in /Users/mghosh2/miniconda3/lib/python3.8/site-packages (from pyasn1-modules>=0.2.1->google-auth<2,>=1.6.3->tensorboard~=2.4->tensorflow==2.4.1->synthetic-data==0.0.0) (0.4.8)\n",
      "Requirement already satisfied: oauthlib>=3.0.0 in /Users/mghosh2/miniconda3/lib/python3.8/site-packages (from requests-oauthlib>=0.7.0->google-auth-oauthlib<0.5,>=0.4.1->tensorboard~=2.4->tensorflow==2.4.1->synthetic-data==0.0.0) (3.1.0)\n"
     ]
    },
    {
     "name": "stdout",
     "output_type": "stream",
     "text": [
      "\u001b[33mWARNING: Error parsing requirements for matplotlib: [Errno 2] No such file or directory: '/Users/mghosh2/miniconda3/lib/python3.8/site-packages/matplotlib-3.3.4.dist-info/METADATA'\u001b[0m\n",
      "Installing collected packages: matplotlib, synthetic-data\n",
      "  Attempting uninstall: matplotlib\n",
      "    Found existing installation: matplotlib 3.3.4\n",
      "\u001b[31mERROR: Could not install packages due to an OSError: [Errno 2] No such file or directory: '/Users/mghosh2/miniconda3/lib/python3.8/site-packages/matplotlib-3.3.4.dist-info/RECORD'\n",
      "\u001b[0m\n"
     ]
    }
   ],
   "source": [
    "!pip install -e ."
   ]
  },
  {
   "cell_type": "markdown",
   "metadata": {
    "id": "vhAuvxkG3Zxp",
    "pycharm": {
     "name": "#%% md\n"
    }
   },
   "source": [
    "# Time Series synthetic data generation with TimeGAN\n",
    "\n",
    "- TimeGAN - Implemented accordingly with the [paper](https://papers.nips.cc/paper/8789-time-series-generative-adversarial-networks)\n",
    "- This notebook is an example of how TimeGan can be used to generate synthetic time-series data.\n",
    "\n",
    "## Dataset and imports\n",
    "\n",
    "- The data used in this notebook was downloaded from [Yahoo finance](https://finance.yahoo.com/quote/GOOG/history?p=GOOG) and includes:\n",
    "    - **6 variables** - Open, High, Low, Close, Adj Close, Volume\n",
    "    - **1022 events** registered between the period of 1 January 2017 - 24 January 2021.\n",
    "    - The data was processed using a MinMaxScaler (all the variables were numeric)"
   ]
  },
  {
   "cell_type": "code",
   "execution_count": 8,
   "metadata": {
    "id": "aEIlLGWpjtWL"
   },
   "outputs": [],
   "source": [
    "#Importing the required libs for the exercise\n",
    "\n",
    "from os import path\n",
    "import pandas as pd\n",
    "import numpy as np\n",
    "import matplotlib.pyplot as plt\n",
    "import seaborn as sns\n",
    "\n",
    "from preprocessing.timeseries import processed_stock\n",
    "from synthesizers.timeseries import TimeGAN"
   ]
  },
  {
   "cell_type": "markdown",
   "metadata": {
    "id": "xDrx26Jc3Zxq",
    "pycharm": {
     "name": "#%% md\n"
    }
   },
   "source": [
    "## Define Model hyperparameters\n",
    "\n",
    "**Networks:**\n",
    "- Generator\n",
    "- Discriminator\n",
    "- Embedder\n",
    "- Recovery Network\n",
    "\n",
    "TimeGAN is a Generative model based on RNN networks. In this package the implemented version follows a very simple architecture that is shared by the four elements of the GAN.\n",
    "\n",
    "Similarly to other parameters, the architectures of each element should be optimized and tailored to the data."
   ]
  },
  {
   "cell_type": "code",
   "execution_count": 9,
   "metadata": {
    "id": "534hJZob3Zxq",
    "jupyter": {
     "outputs_hidden": false
    },
    "pycharm": {
     "name": "#%%\n"
    }
   },
   "outputs": [],
   "source": [
    "#Specific to TimeGANs\n",
    "seq_len=24\n",
    "n_seq = 6\n",
    "hidden_dim=24\n",
    "gamma=1\n",
    "\n",
    "noise_dim = 32\n",
    "dim = 128\n",
    "batch_size = 128\n",
    "\n",
    "log_step = 100\n",
    "learning_rate = 5e-4\n",
    "\n",
    "gan_args = [batch_size, learning_rate, noise_dim, 24, 2, (0, 1), dim]"
   ]
  },
  {
   "cell_type": "markdown",
   "metadata": {
    "id": "wAAdzuyQ3Zxr"
   },
   "source": [
    "## The data"
   ]
  },
  {
   "cell_type": "code",
   "execution_count": 10,
   "metadata": {
    "id": "AlIApORA3Zxr",
    "jupyter": {
     "outputs_hidden": false
    },
    "outputId": "ca4407f4-e0c3-4939-bc09-48a7e3383079",
    "pycharm": {
     "name": "#%%\n"
    }
   },
   "outputs": [
    {
     "name": "stdout",
     "output_type": "stream",
     "text": [
      "997 (24, 6)\n"
     ]
    }
   ],
   "source": [
    "stock_data = processed_stock(seq_len=seq_len)\n",
    "print(len(stock_data),stock_data[0].shape)"
   ]
  },
  {
   "cell_type": "code",
   "execution_count": 11,
   "metadata": {},
   "outputs": [
    {
     "data": {
      "text/plain": [
       "([array([[0.29035286, 0.30157261, 0.2832873 , 0.31241978, 0.31241978,\n",
       "          0.51153544],\n",
       "         [0.25242358, 0.24596801, 0.21392413, 0.24260252, 0.24260252,\n",
       "          0.63091703],\n",
       "         [0.31890025, 0.30942255, 0.26067434, 0.25668433, 0.25668433,\n",
       "          0.55544179],\n",
       "         [0.28077453, 0.32162969, 0.25583145, 0.29522564, 0.29522564,\n",
       "          0.56385448],\n",
       "         [0.24812589, 0.27668678, 0.23528992, 0.27864135, 0.27864135,\n",
       "          0.66321969],\n",
       "         [0.28082809, 0.2979576 , 0.25214389, 0.29927081, 0.29927081,\n",
       "          0.59975769],\n",
       "         [0.28341032, 0.3166499 , 0.26872786, 0.2674565 , 0.2674565 ,\n",
       "          0.6664619 ],\n",
       "         [0.3575711 , 0.37558395, 0.30715368, 0.3889013 , 0.3889013 ,\n",
       "          0.57221597],\n",
       "         [0.31021542, 0.35297713, 0.30369569, 0.2948848 , 0.2948848 ,\n",
       "          0.66207638],\n",
       "         [0.42074174, 0.41155922, 0.37817527, 0.3850266 , 0.3850266 ,\n",
       "          0.38594246],\n",
       "         [0.42994487, 0.42918892, 0.39860168, 0.44330931, 0.44330931,\n",
       "          0.38643732],\n",
       "         [0.38107028, 0.4061455 , 0.38171169, 0.38516116, 0.38516116,\n",
       "          0.51510187],\n",
       "         [0.44518809, 0.45107967, 0.4366469 , 0.45947207, 0.45947207,\n",
       "          0.39483294],\n",
       "         [0.51053883, 0.49708796, 0.47628474, 0.47797581, 0.47797581,\n",
       "          0.37788813],\n",
       "         [0.51860719, 0.52256749, 0.51048762, 0.53850085, 0.53850085,\n",
       "          0.2673117 ],\n",
       "         [0.55451715, 0.54183005, 0.50049042, 0.49802225, 0.49802225,\n",
       "          0.35075595],\n",
       "         [0.5117987 , 0.52499498, 0.49582471, 0.54082388, 0.54082388,\n",
       "          0.35573871],\n",
       "         [0.44558118, 0.4815714 , 0.44560025, 0.49617451, 0.49617451,\n",
       "          0.58740316],\n",
       "         [0.52113588, 0.50825946, 0.48714585, 0.47712366, 0.47712366,\n",
       "          0.44904611],\n",
       "         [0.55158643, 0.54667618, 0.54278285, 0.54447446, 0.54447446,\n",
       "          0.31664448],\n",
       "         [0.58452095, 0.56627055, 0.54584233, 0.54023187, 0.54023187,\n",
       "          0.36372479],\n",
       "         [0.5783647 , 0.56524888, 0.57192865, 0.56995626, 0.56995626,\n",
       "          0.43007065],\n",
       "         [0.65156053, 0.63095184, 0.63406246, 0.62692948, 0.62692948,\n",
       "          0.23632299],\n",
       "         [0.66404275, 0.64616717, 0.65780022, 0.6565642 , 0.6565642 ,\n",
       "          0.12794785]]),\n",
       "  array([[0.43977341, 0.42958181, 0.4369348 , 0.43094954, 0.43094954,\n",
       "          0.23014573],\n",
       "         [0.45214841, 0.44078487, 0.44580719, 0.44587453, 0.44587453,\n",
       "          0.27340364],\n",
       "         [0.44254325, 0.42731155, 0.42006282, 0.42813316, 0.42813316,\n",
       "          0.37051636],\n",
       "         [0.41708735, 0.42858637, 0.4180652 , 0.42723623, 0.42723623,\n",
       "          0.22608443],\n",
       "         [0.41662271, 0.42999218, 0.41494279, 0.4332995 , 0.4332995 ,\n",
       "          0.36237671],\n",
       "         [0.38453708, 0.37623885, 0.3705519 , 0.38695503, 0.38695503,\n",
       "          0.2377052 ],\n",
       "         [0.39785019, 0.38065712, 0.3787737 , 0.38147467, 0.38147467,\n",
       "          0.31203713],\n",
       "         [0.38214244, 0.3749814 , 0.37105762, 0.38042533, 0.38042533,\n",
       "          0.27785741],\n",
       "         [0.39509824, 0.38015945, 0.36572153, 0.3591052 , 0.3591052 ,\n",
       "          0.34819631],\n",
       "         [0.32093746, 0.35366698, 0.31956876, 0.35947298, 0.35947298,\n",
       "          0.39553258],\n",
       "         [0.30397432, 0.29156592, 0.2735601 , 0.27961   , 0.27961   ,\n",
       "          0.33558582],\n",
       "         [0.28542965, 0.29446485, 0.28848839, 0.30020355, 0.30020355,\n",
       "          0.27611686],\n",
       "         [0.30664141, 0.29693594, 0.28943316, 0.28655225, 0.28655225,\n",
       "          0.34084161],\n",
       "         [0.32924709, 0.33677083, 0.32604766, 0.33784793, 0.33784793,\n",
       "          0.36510699],\n",
       "         [0.3093577 , 0.31609372, 0.28856034, 0.32350586, 0.32350586,\n",
       "          0.38007235],\n",
       "         [0.30992061, 0.31525549, 0.29704587, 0.29111761, 0.29111761,\n",
       "          0.48832804],\n",
       "         [0.29752772, 0.33210794, 0.28590586, 0.33689712, 0.33689712,\n",
       "          0.55030545],\n",
       "         [0.31063535, 0.31370993, 0.27913905, 0.28374485, 0.28374485,\n",
       "          0.63729907],\n",
       "         [0.29035286, 0.30157261, 0.2832873 , 0.31241978, 0.31241978,\n",
       "          0.51153544],\n",
       "         [0.25242358, 0.24596801, 0.21392413, 0.24260252, 0.24260252,\n",
       "          0.63091703],\n",
       "         [0.31890025, 0.30942255, 0.26067434, 0.25668433, 0.25668433,\n",
       "          0.55544179],\n",
       "         [0.28077453, 0.32162969, 0.25583145, 0.29522564, 0.29522564,\n",
       "          0.56385448],\n",
       "         [0.24812589, 0.27668678, 0.23528992, 0.27864135, 0.27864135,\n",
       "          0.66321969],\n",
       "         [0.28082809, 0.2979576 , 0.25214389, 0.29927081, 0.29927081,\n",
       "          0.59975769]]),\n",
       "  array([[0.37396687, 0.38202808, 0.37826534, 0.39270429, 0.39270429,\n",
       "          0.32091055],\n",
       "         [0.36633642, 0.35832977, 0.36899696, 0.37017333, 0.37017333,\n",
       "          0.2003174 ],\n",
       "         [0.36141321, 0.3495979 , 0.36139424, 0.3570871 , 0.3570871 ,\n",
       "          0.16139381],\n",
       "         [0.37041968, 0.35533469, 0.36606347, 0.35726645, 0.35726645,\n",
       "          0.36090918],\n",
       "         [0.37142935, 0.35647862, 0.36774617, 0.35824418, 0.35824418,\n",
       "          0.14095082],\n",
       "         [0.376911  , 0.35914188, 0.37445893, 0.36521326, 0.36521326,\n",
       "          0.1858469 ],\n",
       "         [0.35690992, 0.35832977, 0.3621492 , 0.36510564, 0.36510564,\n",
       "          0.28434183],\n",
       "         [0.32670052, 0.33753913, 0.33172559, 0.34946317, 0.34946317,\n",
       "          0.23418996],\n",
       "         [0.31086766, 0.31212067, 0.31269408, 0.31946966, 0.31946966,\n",
       "          0.14770827],\n",
       "         [0.33677032, 0.3205688 , 0.3231412 , 0.32034875, 0.32034875,\n",
       "          0.13989284],\n",
       "         [0.34281935, 0.33000886, 0.34165985, 0.33340804, 0.33340804,\n",
       "          0.12840859],\n",
       "         [0.33171317, 0.3317936 , 0.3332958 , 0.33714829, 0.33714829,\n",
       "          0.18709259],\n",
       "         [0.32897005, 0.32190043, 0.3193438 , 0.32438495, 0.32438495,\n",
       "          0.18757039],\n",
       "         [0.30923259, 0.30853189, 0.31399881, 0.31827678, 0.31827678,\n",
       "          0.18830415],\n",
       "         [0.29708097, 0.29515471, 0.30163503, 0.29937844, 0.29937844,\n",
       "          0.2040374 ],\n",
       "         [0.29319414, 0.28671095, 0.29262763, 0.29590731, 0.29590731,\n",
       "          0.10607147],\n",
       "         [0.29212198, 0.28804695, 0.29165584, 0.2950821 , 0.2950821 ,\n",
       "          0.19188765],\n",
       "         [0.30128039, 0.28719999, 0.29826964, 0.28994269, 0.28994269,\n",
       "          0.18195625],\n",
       "         [0.28778851, 0.28082568, 0.28776848, 0.29081268, 0.29081268,\n",
       "          0.11991058],\n",
       "         [0.29666988, 0.28143687, 0.28499702, 0.27879376, 0.27879376,\n",
       "          0.18229753],\n",
       "         [0.30484546, 0.2914524 , 0.29647897, 0.29388921, 0.29388921,\n",
       "          0.1264462 ],\n",
       "         [0.29591937, 0.29012514, 0.30072618, 0.29815863, 0.29815863,\n",
       "          0.11938159],\n",
       "         [0.31386088, 0.29866494, 0.3013111 , 0.29375465, 0.29375465,\n",
       "          0.18821883],\n",
       "         [0.30311212, 0.29566112, 0.30112656, 0.30094808, 0.30094808,\n",
       "          0.1025221 ]])],\n",
       " (24, 6))"
      ]
     },
     "execution_count": 11,
     "metadata": {},
     "output_type": "execute_result"
    }
   ],
   "source": [
    "stock_data[0:3] , stock_data[0].shape"
   ]
  },
  {
   "cell_type": "markdown",
   "metadata": {
    "id": "tUJB8Al_3Zxs",
    "pycharm": {
     "name": "#%% md\n"
    }
   },
   "source": [
    "## Training the TimeGAN synthetizer"
   ]
  },
  {
   "cell_type": "code",
   "execution_count": 12,
   "metadata": {
    "id": "tASkpo9g3Zxs",
    "jupyter": {
     "outputs_hidden": false
    },
    "pycharm": {
     "name": "#%%\n"
    }
   },
   "outputs": [
    {
     "name": "stderr",
     "output_type": "stream",
     "text": [
      "Emddeding network training: 100%|████████████████████████████████████████████| 100000/100000 [3:08:34<00:00,  8.84it/s]\n",
      "Supervised network training: 100%|███████████████████████████████████████████| 100000/100000 [2:24:21<00:00, 11.55it/s]\n",
      "Joint networks training:   0%|▏                                                | 270/100000 [05:24<33:18:11,  1.20s/it]\n"
     ]
    },
    {
     "ename": "KeyboardInterrupt",
     "evalue": "",
     "output_type": "error",
     "traceback": [
      "\u001b[1;31m---------------------------------------------------------------------------\u001b[0m",
      "\u001b[1;31mKeyboardInterrupt\u001b[0m                         Traceback (most recent call last)",
      "\u001b[1;32m<ipython-input-12-54da3192c687>\u001b[0m in \u001b[0;36m<module>\u001b[1;34m\u001b[0m\n\u001b[0;32m      3\u001b[0m \u001b[1;32melse\u001b[0m\u001b[1;33m:\u001b[0m\u001b[1;33m\u001b[0m\u001b[1;33m\u001b[0m\u001b[0m\n\u001b[0;32m      4\u001b[0m     \u001b[0msynth\u001b[0m \u001b[1;33m=\u001b[0m \u001b[0mTimeGAN\u001b[0m\u001b[1;33m(\u001b[0m\u001b[0mmodel_parameters\u001b[0m\u001b[1;33m=\u001b[0m\u001b[0mgan_args\u001b[0m\u001b[1;33m,\u001b[0m \u001b[0mhidden_dim\u001b[0m\u001b[1;33m=\u001b[0m\u001b[1;36m24\u001b[0m\u001b[1;33m,\u001b[0m \u001b[0mseq_len\u001b[0m\u001b[1;33m=\u001b[0m\u001b[0mseq_len\u001b[0m\u001b[1;33m,\u001b[0m \u001b[0mn_seq\u001b[0m\u001b[1;33m=\u001b[0m\u001b[0mn_seq\u001b[0m\u001b[1;33m,\u001b[0m \u001b[0mgamma\u001b[0m\u001b[1;33m=\u001b[0m\u001b[1;36m1\u001b[0m\u001b[1;33m)\u001b[0m\u001b[1;33m\u001b[0m\u001b[1;33m\u001b[0m\u001b[0m\n\u001b[1;32m----> 5\u001b[1;33m     \u001b[0msynth\u001b[0m\u001b[1;33m.\u001b[0m\u001b[0mtrain\u001b[0m\u001b[1;33m(\u001b[0m\u001b[0mstock_data\u001b[0m\u001b[1;33m,\u001b[0m \u001b[0mtrain_steps\u001b[0m\u001b[1;33m=\u001b[0m\u001b[1;36m100000\u001b[0m\u001b[1;33m)\u001b[0m\u001b[1;33m\u001b[0m\u001b[1;33m\u001b[0m\u001b[0m\n\u001b[0m\u001b[0;32m      6\u001b[0m     \u001b[0msynth\u001b[0m\u001b[1;33m.\u001b[0m\u001b[0msave\u001b[0m\u001b[1;33m(\u001b[0m\u001b[1;34m'synthesizer_stock.pkl'\u001b[0m\u001b[1;33m)\u001b[0m\u001b[1;33m\u001b[0m\u001b[1;33m\u001b[0m\u001b[0m\n",
      "\u001b[1;32m~\\miniconda3\\envs\\dl\\lib\\site-packages\\pysynthetic\\synthesizers\\timeseries\\timegan\\model.py\u001b[0m in \u001b[0;36mtrain\u001b[1;34m(self, data, train_steps)\u001b[0m\n\u001b[0;32m    258\u001b[0m             \u001b[0mX_\u001b[0m \u001b[1;33m=\u001b[0m \u001b[0mnext\u001b[0m\u001b[1;33m(\u001b[0m\u001b[0mself\u001b[0m\u001b[1;33m.\u001b[0m\u001b[0mget_batch_data\u001b[0m\u001b[1;33m(\u001b[0m\u001b[0mdata\u001b[0m\u001b[1;33m,\u001b[0m \u001b[0mn_windows\u001b[0m\u001b[1;33m=\u001b[0m\u001b[0mlen\u001b[0m\u001b[1;33m(\u001b[0m\u001b[0mdata\u001b[0m\u001b[1;33m)\u001b[0m\u001b[1;33m)\u001b[0m\u001b[1;33m)\u001b[0m\u001b[1;33m\u001b[0m\u001b[1;33m\u001b[0m\u001b[0m\n\u001b[0;32m    259\u001b[0m             \u001b[0mZ_\u001b[0m \u001b[1;33m=\u001b[0m \u001b[0mnext\u001b[0m\u001b[1;33m(\u001b[0m\u001b[0mself\u001b[0m\u001b[1;33m.\u001b[0m\u001b[0mget_batch_noise\u001b[0m\u001b[1;33m(\u001b[0m\u001b[1;33m)\u001b[0m\u001b[1;33m)\u001b[0m\u001b[1;33m\u001b[0m\u001b[1;33m\u001b[0m\u001b[0m\n\u001b[1;32m--> 260\u001b[1;33m             \u001b[0mstep_d_loss\u001b[0m \u001b[1;33m=\u001b[0m \u001b[0mself\u001b[0m\u001b[1;33m.\u001b[0m\u001b[0mdiscriminator_loss\u001b[0m\u001b[1;33m(\u001b[0m\u001b[0mX_\u001b[0m\u001b[1;33m,\u001b[0m \u001b[0mZ_\u001b[0m\u001b[1;33m)\u001b[0m\u001b[1;33m\u001b[0m\u001b[1;33m\u001b[0m\u001b[0m\n\u001b[0m\u001b[0;32m    261\u001b[0m             \u001b[1;32mif\u001b[0m \u001b[0mstep_d_loss\u001b[0m \u001b[1;33m>\u001b[0m \u001b[1;36m0.15\u001b[0m\u001b[1;33m:\u001b[0m\u001b[1;33m\u001b[0m\u001b[1;33m\u001b[0m\u001b[0m\n\u001b[0;32m    262\u001b[0m                 \u001b[0mstep_d_loss\u001b[0m \u001b[1;33m=\u001b[0m \u001b[0mself\u001b[0m\u001b[1;33m.\u001b[0m\u001b[0mtrain_discriminator\u001b[0m\u001b[1;33m(\u001b[0m\u001b[0mX_\u001b[0m\u001b[1;33m,\u001b[0m \u001b[0mZ_\u001b[0m\u001b[1;33m,\u001b[0m \u001b[0mdiscriminator_opt\u001b[0m\u001b[1;33m)\u001b[0m\u001b[1;33m\u001b[0m\u001b[1;33m\u001b[0m\u001b[0m\n",
      "\u001b[1;32m~\\miniconda3\\envs\\dl\\lib\\site-packages\\pysynthetic\\synthesizers\\timeseries\\timegan\\model.py\u001b[0m in \u001b[0;36mdiscriminator_loss\u001b[1;34m(self, x, z)\u001b[0m\n\u001b[0;32m    153\u001b[0m                                             y_pred=y_fake)\n\u001b[0;32m    154\u001b[0m \u001b[1;33m\u001b[0m\u001b[0m\n\u001b[1;32m--> 155\u001b[1;33m         \u001b[0my_fake_e\u001b[0m \u001b[1;33m=\u001b[0m \u001b[0mself\u001b[0m\u001b[1;33m.\u001b[0m\u001b[0madversarial_embedded\u001b[0m\u001b[1;33m(\u001b[0m\u001b[0mz\u001b[0m\u001b[1;33m)\u001b[0m\u001b[1;33m\u001b[0m\u001b[1;33m\u001b[0m\u001b[0m\n\u001b[0m\u001b[0;32m    156\u001b[0m         discriminator_loss_fake_e = self._bce(y_true=zeros_like(y_fake_e),\n\u001b[0;32m    157\u001b[0m                                               y_pred=y_fake_e)\n",
      "\u001b[1;32m~\\AppData\\Roaming\\Python\\Python38\\site-packages\\tensorflow\\python\\keras\\engine\\base_layer.py\u001b[0m in \u001b[0;36m__call__\u001b[1;34m(self, *args, **kwargs)\u001b[0m\n\u001b[0;32m   1010\u001b[0m         with autocast_variable.enable_auto_cast_variables(\n\u001b[0;32m   1011\u001b[0m             self._compute_dtype_object):\n\u001b[1;32m-> 1012\u001b[1;33m           \u001b[0moutputs\u001b[0m \u001b[1;33m=\u001b[0m \u001b[0mcall_fn\u001b[0m\u001b[1;33m(\u001b[0m\u001b[0minputs\u001b[0m\u001b[1;33m,\u001b[0m \u001b[1;33m*\u001b[0m\u001b[0margs\u001b[0m\u001b[1;33m,\u001b[0m \u001b[1;33m**\u001b[0m\u001b[0mkwargs\u001b[0m\u001b[1;33m)\u001b[0m\u001b[1;33m\u001b[0m\u001b[1;33m\u001b[0m\u001b[0m\n\u001b[0m\u001b[0;32m   1013\u001b[0m \u001b[1;33m\u001b[0m\u001b[0m\n\u001b[0;32m   1014\u001b[0m         \u001b[1;32mif\u001b[0m \u001b[0mself\u001b[0m\u001b[1;33m.\u001b[0m\u001b[0m_activity_regularizer\u001b[0m\u001b[1;33m:\u001b[0m\u001b[1;33m\u001b[0m\u001b[1;33m\u001b[0m\u001b[0m\n",
      "\u001b[1;32m~\\AppData\\Roaming\\Python\\Python38\\site-packages\\tensorflow\\python\\keras\\engine\\functional.py\u001b[0m in \u001b[0;36mcall\u001b[1;34m(self, inputs, training, mask)\u001b[0m\n\u001b[0;32m    422\u001b[0m         \u001b[0ma\u001b[0m \u001b[0mlist\u001b[0m \u001b[0mof\u001b[0m \u001b[0mtensors\u001b[0m \u001b[1;32mif\u001b[0m \u001b[0mthere\u001b[0m \u001b[0mare\u001b[0m \u001b[0mmore\u001b[0m \u001b[0mthan\u001b[0m \u001b[0mone\u001b[0m \u001b[0moutputs\u001b[0m\u001b[1;33m.\u001b[0m\u001b[1;33m\u001b[0m\u001b[1;33m\u001b[0m\u001b[0m\n\u001b[0;32m    423\u001b[0m     \"\"\"\n\u001b[1;32m--> 424\u001b[1;33m     return self._run_internal_graph(\n\u001b[0m\u001b[0;32m    425\u001b[0m         inputs, training=training, mask=mask)\n\u001b[0;32m    426\u001b[0m \u001b[1;33m\u001b[0m\u001b[0m\n",
      "\u001b[1;32m~\\AppData\\Roaming\\Python\\Python38\\site-packages\\tensorflow\\python\\keras\\engine\\functional.py\u001b[0m in \u001b[0;36m_run_internal_graph\u001b[1;34m(self, inputs, training, mask)\u001b[0m\n\u001b[0;32m    558\u001b[0m \u001b[1;33m\u001b[0m\u001b[0m\n\u001b[0;32m    559\u001b[0m         \u001b[0margs\u001b[0m\u001b[1;33m,\u001b[0m \u001b[0mkwargs\u001b[0m \u001b[1;33m=\u001b[0m \u001b[0mnode\u001b[0m\u001b[1;33m.\u001b[0m\u001b[0mmap_arguments\u001b[0m\u001b[1;33m(\u001b[0m\u001b[0mtensor_dict\u001b[0m\u001b[1;33m)\u001b[0m\u001b[1;33m\u001b[0m\u001b[1;33m\u001b[0m\u001b[0m\n\u001b[1;32m--> 560\u001b[1;33m         \u001b[0moutputs\u001b[0m \u001b[1;33m=\u001b[0m \u001b[0mnode\u001b[0m\u001b[1;33m.\u001b[0m\u001b[0mlayer\u001b[0m\u001b[1;33m(\u001b[0m\u001b[1;33m*\u001b[0m\u001b[0margs\u001b[0m\u001b[1;33m,\u001b[0m \u001b[1;33m**\u001b[0m\u001b[0mkwargs\u001b[0m\u001b[1;33m)\u001b[0m\u001b[1;33m\u001b[0m\u001b[1;33m\u001b[0m\u001b[0m\n\u001b[0m\u001b[0;32m    561\u001b[0m \u001b[1;33m\u001b[0m\u001b[0m\n\u001b[0;32m    562\u001b[0m         \u001b[1;31m# Update tensor_dict.\u001b[0m\u001b[1;33m\u001b[0m\u001b[1;33m\u001b[0m\u001b[1;33m\u001b[0m\u001b[0m\n",
      "\u001b[1;32m~\\AppData\\Roaming\\Python\\Python38\\site-packages\\tensorflow\\python\\keras\\engine\\base_layer.py\u001b[0m in \u001b[0;36m__call__\u001b[1;34m(self, *args, **kwargs)\u001b[0m\n\u001b[0;32m   1010\u001b[0m         with autocast_variable.enable_auto_cast_variables(\n\u001b[0;32m   1011\u001b[0m             self._compute_dtype_object):\n\u001b[1;32m-> 1012\u001b[1;33m           \u001b[0moutputs\u001b[0m \u001b[1;33m=\u001b[0m \u001b[0mcall_fn\u001b[0m\u001b[1;33m(\u001b[0m\u001b[0minputs\u001b[0m\u001b[1;33m,\u001b[0m \u001b[1;33m*\u001b[0m\u001b[0margs\u001b[0m\u001b[1;33m,\u001b[0m \u001b[1;33m**\u001b[0m\u001b[0mkwargs\u001b[0m\u001b[1;33m)\u001b[0m\u001b[1;33m\u001b[0m\u001b[1;33m\u001b[0m\u001b[0m\n\u001b[0m\u001b[0;32m   1013\u001b[0m \u001b[1;33m\u001b[0m\u001b[0m\n\u001b[0;32m   1014\u001b[0m         \u001b[1;32mif\u001b[0m \u001b[0mself\u001b[0m\u001b[1;33m.\u001b[0m\u001b[0m_activity_regularizer\u001b[0m\u001b[1;33m:\u001b[0m\u001b[1;33m\u001b[0m\u001b[1;33m\u001b[0m\u001b[0m\n",
      "\u001b[1;32m~\\AppData\\Roaming\\Python\\Python38\\site-packages\\tensorflow\\python\\keras\\engine\\sequential.py\u001b[0m in \u001b[0;36mcall\u001b[1;34m(self, inputs, training, mask)\u001b[0m\n\u001b[0;32m    373\u001b[0m       \u001b[1;32mif\u001b[0m \u001b[1;32mnot\u001b[0m \u001b[0mself\u001b[0m\u001b[1;33m.\u001b[0m\u001b[0mbuilt\u001b[0m\u001b[1;33m:\u001b[0m\u001b[1;33m\u001b[0m\u001b[1;33m\u001b[0m\u001b[0m\n\u001b[0;32m    374\u001b[0m         \u001b[0mself\u001b[0m\u001b[1;33m.\u001b[0m\u001b[0m_init_graph_network\u001b[0m\u001b[1;33m(\u001b[0m\u001b[0mself\u001b[0m\u001b[1;33m.\u001b[0m\u001b[0minputs\u001b[0m\u001b[1;33m,\u001b[0m \u001b[0mself\u001b[0m\u001b[1;33m.\u001b[0m\u001b[0moutputs\u001b[0m\u001b[1;33m)\u001b[0m\u001b[1;33m\u001b[0m\u001b[1;33m\u001b[0m\u001b[0m\n\u001b[1;32m--> 375\u001b[1;33m       \u001b[1;32mreturn\u001b[0m \u001b[0msuper\u001b[0m\u001b[1;33m(\u001b[0m\u001b[0mSequential\u001b[0m\u001b[1;33m,\u001b[0m \u001b[0mself\u001b[0m\u001b[1;33m)\u001b[0m\u001b[1;33m.\u001b[0m\u001b[0mcall\u001b[0m\u001b[1;33m(\u001b[0m\u001b[0minputs\u001b[0m\u001b[1;33m,\u001b[0m \u001b[0mtraining\u001b[0m\u001b[1;33m=\u001b[0m\u001b[0mtraining\u001b[0m\u001b[1;33m,\u001b[0m \u001b[0mmask\u001b[0m\u001b[1;33m=\u001b[0m\u001b[0mmask\u001b[0m\u001b[1;33m)\u001b[0m\u001b[1;33m\u001b[0m\u001b[1;33m\u001b[0m\u001b[0m\n\u001b[0m\u001b[0;32m    376\u001b[0m \u001b[1;33m\u001b[0m\u001b[0m\n\u001b[0;32m    377\u001b[0m     \u001b[0moutputs\u001b[0m \u001b[1;33m=\u001b[0m \u001b[0minputs\u001b[0m  \u001b[1;31m# handle the corner case where self.layers is empty\u001b[0m\u001b[1;33m\u001b[0m\u001b[1;33m\u001b[0m\u001b[0m\n",
      "\u001b[1;32m~\\AppData\\Roaming\\Python\\Python38\\site-packages\\tensorflow\\python\\keras\\engine\\functional.py\u001b[0m in \u001b[0;36mcall\u001b[1;34m(self, inputs, training, mask)\u001b[0m\n\u001b[0;32m    422\u001b[0m         \u001b[0ma\u001b[0m \u001b[0mlist\u001b[0m \u001b[0mof\u001b[0m \u001b[0mtensors\u001b[0m \u001b[1;32mif\u001b[0m \u001b[0mthere\u001b[0m \u001b[0mare\u001b[0m \u001b[0mmore\u001b[0m \u001b[0mthan\u001b[0m \u001b[0mone\u001b[0m \u001b[0moutputs\u001b[0m\u001b[1;33m.\u001b[0m\u001b[1;33m\u001b[0m\u001b[1;33m\u001b[0m\u001b[0m\n\u001b[0;32m    423\u001b[0m     \"\"\"\n\u001b[1;32m--> 424\u001b[1;33m     return self._run_internal_graph(\n\u001b[0m\u001b[0;32m    425\u001b[0m         inputs, training=training, mask=mask)\n\u001b[0;32m    426\u001b[0m \u001b[1;33m\u001b[0m\u001b[0m\n",
      "\u001b[1;32m~\\AppData\\Roaming\\Python\\Python38\\site-packages\\tensorflow\\python\\keras\\engine\\functional.py\u001b[0m in \u001b[0;36m_run_internal_graph\u001b[1;34m(self, inputs, training, mask)\u001b[0m\n\u001b[0;32m    558\u001b[0m \u001b[1;33m\u001b[0m\u001b[0m\n\u001b[0;32m    559\u001b[0m         \u001b[0margs\u001b[0m\u001b[1;33m,\u001b[0m \u001b[0mkwargs\u001b[0m \u001b[1;33m=\u001b[0m \u001b[0mnode\u001b[0m\u001b[1;33m.\u001b[0m\u001b[0mmap_arguments\u001b[0m\u001b[1;33m(\u001b[0m\u001b[0mtensor_dict\u001b[0m\u001b[1;33m)\u001b[0m\u001b[1;33m\u001b[0m\u001b[1;33m\u001b[0m\u001b[0m\n\u001b[1;32m--> 560\u001b[1;33m         \u001b[0moutputs\u001b[0m \u001b[1;33m=\u001b[0m \u001b[0mnode\u001b[0m\u001b[1;33m.\u001b[0m\u001b[0mlayer\u001b[0m\u001b[1;33m(\u001b[0m\u001b[1;33m*\u001b[0m\u001b[0margs\u001b[0m\u001b[1;33m,\u001b[0m \u001b[1;33m**\u001b[0m\u001b[0mkwargs\u001b[0m\u001b[1;33m)\u001b[0m\u001b[1;33m\u001b[0m\u001b[1;33m\u001b[0m\u001b[0m\n\u001b[0m\u001b[0;32m    561\u001b[0m \u001b[1;33m\u001b[0m\u001b[0m\n\u001b[0;32m    562\u001b[0m         \u001b[1;31m# Update tensor_dict.\u001b[0m\u001b[1;33m\u001b[0m\u001b[1;33m\u001b[0m\u001b[1;33m\u001b[0m\u001b[0m\n",
      "\u001b[1;32m~\\AppData\\Roaming\\Python\\Python38\\site-packages\\tensorflow\\python\\keras\\layers\\recurrent.py\u001b[0m in \u001b[0;36m__call__\u001b[1;34m(self, inputs, initial_state, constants, **kwargs)\u001b[0m\n\u001b[0;32m    658\u001b[0m \u001b[1;33m\u001b[0m\u001b[0m\n\u001b[0;32m    659\u001b[0m     \u001b[1;32mif\u001b[0m \u001b[0minitial_state\u001b[0m \u001b[1;32mis\u001b[0m \u001b[1;32mNone\u001b[0m \u001b[1;32mand\u001b[0m \u001b[0mconstants\u001b[0m \u001b[1;32mis\u001b[0m \u001b[1;32mNone\u001b[0m\u001b[1;33m:\u001b[0m\u001b[1;33m\u001b[0m\u001b[1;33m\u001b[0m\u001b[0m\n\u001b[1;32m--> 660\u001b[1;33m       \u001b[1;32mreturn\u001b[0m \u001b[0msuper\u001b[0m\u001b[1;33m(\u001b[0m\u001b[0mRNN\u001b[0m\u001b[1;33m,\u001b[0m \u001b[0mself\u001b[0m\u001b[1;33m)\u001b[0m\u001b[1;33m.\u001b[0m\u001b[0m__call__\u001b[0m\u001b[1;33m(\u001b[0m\u001b[0minputs\u001b[0m\u001b[1;33m,\u001b[0m \u001b[1;33m**\u001b[0m\u001b[0mkwargs\u001b[0m\u001b[1;33m)\u001b[0m\u001b[1;33m\u001b[0m\u001b[1;33m\u001b[0m\u001b[0m\n\u001b[0m\u001b[0;32m    661\u001b[0m \u001b[1;33m\u001b[0m\u001b[0m\n\u001b[0;32m    662\u001b[0m     \u001b[1;31m# If any of `initial_state` or `constants` are specified and are Keras\u001b[0m\u001b[1;33m\u001b[0m\u001b[1;33m\u001b[0m\u001b[1;33m\u001b[0m\u001b[0m\n",
      "\u001b[1;32m~\\AppData\\Roaming\\Python\\Python38\\site-packages\\tensorflow\\python\\keras\\engine\\base_layer.py\u001b[0m in \u001b[0;36m__call__\u001b[1;34m(self, *args, **kwargs)\u001b[0m\n\u001b[0;32m   1010\u001b[0m         with autocast_variable.enable_auto_cast_variables(\n\u001b[0;32m   1011\u001b[0m             self._compute_dtype_object):\n\u001b[1;32m-> 1012\u001b[1;33m           \u001b[0moutputs\u001b[0m \u001b[1;33m=\u001b[0m \u001b[0mcall_fn\u001b[0m\u001b[1;33m(\u001b[0m\u001b[0minputs\u001b[0m\u001b[1;33m,\u001b[0m \u001b[1;33m*\u001b[0m\u001b[0margs\u001b[0m\u001b[1;33m,\u001b[0m \u001b[1;33m**\u001b[0m\u001b[0mkwargs\u001b[0m\u001b[1;33m)\u001b[0m\u001b[1;33m\u001b[0m\u001b[1;33m\u001b[0m\u001b[0m\n\u001b[0m\u001b[0;32m   1013\u001b[0m \u001b[1;33m\u001b[0m\u001b[0m\n\u001b[0;32m   1014\u001b[0m         \u001b[1;32mif\u001b[0m \u001b[0mself\u001b[0m\u001b[1;33m.\u001b[0m\u001b[0m_activity_regularizer\u001b[0m\u001b[1;33m:\u001b[0m\u001b[1;33m\u001b[0m\u001b[1;33m\u001b[0m\u001b[0m\n",
      "\u001b[1;32m~\\AppData\\Roaming\\Python\\Python38\\site-packages\\tensorflow\\python\\keras\\layers\\recurrent_v2.py\u001b[0m in \u001b[0;36mcall\u001b[1;34m(self, inputs, mask, training, initial_state)\u001b[0m\n\u001b[0;32m    468\u001b[0m       \u001b[0mruntime\u001b[0m \u001b[1;33m=\u001b[0m \u001b[0m_runtime\u001b[0m\u001b[1;33m(\u001b[0m\u001b[0m_RUNTIME_UNKNOWN\u001b[0m\u001b[1;33m)\u001b[0m\u001b[1;33m\u001b[0m\u001b[1;33m\u001b[0m\u001b[0m\n\u001b[0;32m    469\u001b[0m     \u001b[1;32melse\u001b[0m\u001b[1;33m:\u001b[0m\u001b[1;33m\u001b[0m\u001b[1;33m\u001b[0m\u001b[0m\n\u001b[1;32m--> 470\u001b[1;33m       last_output, outputs, runtime, states = self._defun_gru_call(\n\u001b[0m\u001b[0;32m    471\u001b[0m           inputs, initial_state, training, mask, row_lengths)\n\u001b[0;32m    472\u001b[0m \u001b[1;33m\u001b[0m\u001b[0m\n",
      "\u001b[1;32m~\\AppData\\Roaming\\Python\\Python38\\site-packages\\tensorflow\\python\\keras\\layers\\recurrent_v2.py\u001b[0m in \u001b[0;36m_defun_gru_call\u001b[1;34m(self, inputs, initial_state, training, mask, sequence_lengths)\u001b[0m\n\u001b[0;32m    541\u001b[0m           \u001b[0mlast_output\u001b[0m\u001b[1;33m,\u001b[0m \u001b[0moutputs\u001b[0m\u001b[1;33m,\u001b[0m \u001b[0mnew_h\u001b[0m\u001b[1;33m,\u001b[0m \u001b[0mruntime\u001b[0m \u001b[1;33m=\u001b[0m \u001b[0mgpu_gru\u001b[0m\u001b[1;33m(\u001b[0m\u001b[1;33m**\u001b[0m\u001b[0mgpu_gru_kwargs\u001b[0m\u001b[1;33m)\u001b[0m\u001b[1;33m\u001b[0m\u001b[1;33m\u001b[0m\u001b[0m\n\u001b[0;32m    542\u001b[0m         \u001b[1;32melse\u001b[0m\u001b[1;33m:\u001b[0m\u001b[1;33m\u001b[0m\u001b[1;33m\u001b[0m\u001b[0m\n\u001b[1;32m--> 543\u001b[1;33m           last_output, outputs, new_h, runtime = standard_gru(\n\u001b[0m\u001b[0;32m    544\u001b[0m               **normal_gru_kwargs)\n\u001b[0;32m    545\u001b[0m       \u001b[1;32melse\u001b[0m\u001b[1;33m:\u001b[0m\u001b[1;33m\u001b[0m\u001b[1;33m\u001b[0m\u001b[0m\n",
      "\u001b[1;32m~\\AppData\\Roaming\\Python\\Python38\\site-packages\\tensorflow\\python\\keras\\layers\\recurrent_v2.py\u001b[0m in \u001b[0;36mstandard_gru\u001b[1;34m(inputs, init_h, kernel, recurrent_kernel, bias, mask, time_major, go_backwards, sequence_lengths, zero_output_for_mask)\u001b[0m\n\u001b[0;32m    619\u001b[0m     \u001b[1;32mreturn\u001b[0m \u001b[0mh\u001b[0m\u001b[1;33m,\u001b[0m \u001b[1;33m[\u001b[0m\u001b[0mh\u001b[0m\u001b[1;33m]\u001b[0m\u001b[1;33m\u001b[0m\u001b[1;33m\u001b[0m\u001b[0m\n\u001b[0;32m    620\u001b[0m \u001b[1;33m\u001b[0m\u001b[0m\n\u001b[1;32m--> 621\u001b[1;33m   last_output, outputs, new_states = K.rnn(\n\u001b[0m\u001b[0;32m    622\u001b[0m       \u001b[0mstep\u001b[0m\u001b[1;33m,\u001b[0m\u001b[1;33m\u001b[0m\u001b[1;33m\u001b[0m\u001b[0m\n\u001b[0;32m    623\u001b[0m       \u001b[0minputs\u001b[0m\u001b[1;33m,\u001b[0m \u001b[1;33m[\u001b[0m\u001b[0minit_h\u001b[0m\u001b[1;33m]\u001b[0m\u001b[1;33m,\u001b[0m\u001b[1;33m\u001b[0m\u001b[1;33m\u001b[0m\u001b[0m\n",
      "\u001b[1;32m~\\AppData\\Roaming\\Python\\Python38\\site-packages\\tensorflow\\python\\util\\dispatch.py\u001b[0m in \u001b[0;36mwrapper\u001b[1;34m(*args, **kwargs)\u001b[0m\n\u001b[0;32m    199\u001b[0m     \u001b[1;34m\"\"\"Call target, and fall back on dispatchers if there is a TypeError.\"\"\"\u001b[0m\u001b[1;33m\u001b[0m\u001b[1;33m\u001b[0m\u001b[0m\n\u001b[0;32m    200\u001b[0m     \u001b[1;32mtry\u001b[0m\u001b[1;33m:\u001b[0m\u001b[1;33m\u001b[0m\u001b[1;33m\u001b[0m\u001b[0m\n\u001b[1;32m--> 201\u001b[1;33m       \u001b[1;32mreturn\u001b[0m \u001b[0mtarget\u001b[0m\u001b[1;33m(\u001b[0m\u001b[1;33m*\u001b[0m\u001b[0margs\u001b[0m\u001b[1;33m,\u001b[0m \u001b[1;33m**\u001b[0m\u001b[0mkwargs\u001b[0m\u001b[1;33m)\u001b[0m\u001b[1;33m\u001b[0m\u001b[1;33m\u001b[0m\u001b[0m\n\u001b[0m\u001b[0;32m    202\u001b[0m     \u001b[1;32mexcept\u001b[0m \u001b[1;33m(\u001b[0m\u001b[0mTypeError\u001b[0m\u001b[1;33m,\u001b[0m \u001b[0mValueError\u001b[0m\u001b[1;33m)\u001b[0m\u001b[1;33m:\u001b[0m\u001b[1;33m\u001b[0m\u001b[1;33m\u001b[0m\u001b[0m\n\u001b[0;32m    203\u001b[0m       \u001b[1;31m# Note: convert_to_eager_tensor currently raises a ValueError, not a\u001b[0m\u001b[1;33m\u001b[0m\u001b[1;33m\u001b[0m\u001b[1;33m\u001b[0m\u001b[0m\n",
      "\u001b[1;32m~\\AppData\\Roaming\\Python\\Python38\\site-packages\\tensorflow\\python\\keras\\backend.py\u001b[0m in \u001b[0;36mrnn\u001b[1;34m(step_function, inputs, initial_states, go_backwards, mask, constants, unroll, input_length, time_major, zero_output_for_mask)\u001b[0m\n\u001b[0;32m   4491\u001b[0m         \u001b[1;32mreturn\u001b[0m \u001b[1;33m(\u001b[0m\u001b[0mtime\u001b[0m \u001b[1;33m+\u001b[0m \u001b[1;36m1\u001b[0m\u001b[1;33m,\u001b[0m \u001b[0moutput_ta_t\u001b[0m\u001b[1;33m)\u001b[0m \u001b[1;33m+\u001b[0m \u001b[0mtuple\u001b[0m\u001b[1;33m(\u001b[0m\u001b[0mnew_states\u001b[0m\u001b[1;33m)\u001b[0m\u001b[1;33m\u001b[0m\u001b[1;33m\u001b[0m\u001b[0m\n\u001b[0;32m   4492\u001b[0m \u001b[1;33m\u001b[0m\u001b[0m\n\u001b[1;32m-> 4493\u001b[1;33m       final_outputs = control_flow_ops.while_loop(\n\u001b[0m\u001b[0;32m   4494\u001b[0m           \u001b[0mbody\u001b[0m\u001b[1;33m=\u001b[0m\u001b[0m_step\u001b[0m\u001b[1;33m,\u001b[0m\u001b[1;33m\u001b[0m\u001b[1;33m\u001b[0m\u001b[0m\n\u001b[0;32m   4495\u001b[0m           \u001b[0mloop_vars\u001b[0m\u001b[1;33m=\u001b[0m\u001b[1;33m(\u001b[0m\u001b[0mtime\u001b[0m\u001b[1;33m,\u001b[0m \u001b[0moutput_ta\u001b[0m\u001b[1;33m)\u001b[0m \u001b[1;33m+\u001b[0m \u001b[0mstates\u001b[0m\u001b[1;33m,\u001b[0m\u001b[1;33m\u001b[0m\u001b[1;33m\u001b[0m\u001b[0m\n",
      "\u001b[1;32m~\\AppData\\Roaming\\Python\\Python38\\site-packages\\tensorflow\\python\\ops\\control_flow_ops.py\u001b[0m in \u001b[0;36mwhile_loop\u001b[1;34m(cond, body, loop_vars, shape_invariants, parallel_iterations, back_prop, swap_memory, name, maximum_iterations, return_same_structure)\u001b[0m\n\u001b[0;32m   2733\u001b[0m                                               list(loop_vars))\n\u001b[0;32m   2734\u001b[0m       \u001b[1;32mwhile\u001b[0m \u001b[0mcond\u001b[0m\u001b[1;33m(\u001b[0m\u001b[1;33m*\u001b[0m\u001b[0mloop_vars\u001b[0m\u001b[1;33m)\u001b[0m\u001b[1;33m:\u001b[0m\u001b[1;33m\u001b[0m\u001b[1;33m\u001b[0m\u001b[0m\n\u001b[1;32m-> 2735\u001b[1;33m         \u001b[0mloop_vars\u001b[0m \u001b[1;33m=\u001b[0m \u001b[0mbody\u001b[0m\u001b[1;33m(\u001b[0m\u001b[1;33m*\u001b[0m\u001b[0mloop_vars\u001b[0m\u001b[1;33m)\u001b[0m\u001b[1;33m\u001b[0m\u001b[1;33m\u001b[0m\u001b[0m\n\u001b[0m\u001b[0;32m   2736\u001b[0m         \u001b[1;32mif\u001b[0m \u001b[0mtry_to_pack\u001b[0m \u001b[1;32mand\u001b[0m \u001b[1;32mnot\u001b[0m \u001b[0misinstance\u001b[0m\u001b[1;33m(\u001b[0m\u001b[0mloop_vars\u001b[0m\u001b[1;33m,\u001b[0m \u001b[1;33m(\u001b[0m\u001b[0mlist\u001b[0m\u001b[1;33m,\u001b[0m \u001b[0m_basetuple\u001b[0m\u001b[1;33m)\u001b[0m\u001b[1;33m)\u001b[0m\u001b[1;33m:\u001b[0m\u001b[1;33m\u001b[0m\u001b[1;33m\u001b[0m\u001b[0m\n\u001b[0;32m   2737\u001b[0m           \u001b[0mpacked\u001b[0m \u001b[1;33m=\u001b[0m \u001b[1;32mTrue\u001b[0m\u001b[1;33m\u001b[0m\u001b[1;33m\u001b[0m\u001b[0m\n",
      "\u001b[1;32m~\\AppData\\Roaming\\Python\\Python38\\site-packages\\tensorflow\\python\\keras\\backend.py\u001b[0m in \u001b[0;36m_step\u001b[1;34m(time, output_ta_t, *states)\u001b[0m\n\u001b[0;32m   4477\u001b[0m         \u001b[0mcurrent_input\u001b[0m \u001b[1;33m=\u001b[0m \u001b[0mtuple\u001b[0m\u001b[1;33m(\u001b[0m\u001b[0mta\u001b[0m\u001b[1;33m.\u001b[0m\u001b[0mread\u001b[0m\u001b[1;33m(\u001b[0m\u001b[0mtime\u001b[0m\u001b[1;33m)\u001b[0m \u001b[1;32mfor\u001b[0m \u001b[0mta\u001b[0m \u001b[1;32min\u001b[0m \u001b[0minput_ta\u001b[0m\u001b[1;33m)\u001b[0m\u001b[1;33m\u001b[0m\u001b[1;33m\u001b[0m\u001b[0m\n\u001b[0;32m   4478\u001b[0m         \u001b[0mcurrent_input\u001b[0m \u001b[1;33m=\u001b[0m \u001b[0mnest\u001b[0m\u001b[1;33m.\u001b[0m\u001b[0mpack_sequence_as\u001b[0m\u001b[1;33m(\u001b[0m\u001b[0minputs\u001b[0m\u001b[1;33m,\u001b[0m \u001b[0mcurrent_input\u001b[0m\u001b[1;33m)\u001b[0m\u001b[1;33m\u001b[0m\u001b[1;33m\u001b[0m\u001b[0m\n\u001b[1;32m-> 4479\u001b[1;33m         output, new_states = step_function(current_input,\n\u001b[0m\u001b[0;32m   4480\u001b[0m                                            tuple(states) + tuple(constants))\n\u001b[0;32m   4481\u001b[0m         \u001b[0mflat_state\u001b[0m \u001b[1;33m=\u001b[0m \u001b[0mnest\u001b[0m\u001b[1;33m.\u001b[0m\u001b[0mflatten\u001b[0m\u001b[1;33m(\u001b[0m\u001b[0mstates\u001b[0m\u001b[1;33m)\u001b[0m\u001b[1;33m\u001b[0m\u001b[1;33m\u001b[0m\u001b[0m\n",
      "\u001b[1;32m~\\AppData\\Roaming\\Python\\Python38\\site-packages\\tensorflow\\python\\keras\\layers\\recurrent_v2.py\u001b[0m in \u001b[0;36mstep\u001b[1;34m(cell_inputs, cell_states)\u001b[0m\n\u001b[0;32m    616\u001b[0m \u001b[1;33m\u001b[0m\u001b[0m\n\u001b[0;32m    617\u001b[0m     \u001b[1;31m# previous and candidate state mixed by update gate\u001b[0m\u001b[1;33m\u001b[0m\u001b[1;33m\u001b[0m\u001b[1;33m\u001b[0m\u001b[0m\n\u001b[1;32m--> 618\u001b[1;33m     \u001b[0mh\u001b[0m \u001b[1;33m=\u001b[0m \u001b[0mz\u001b[0m \u001b[1;33m*\u001b[0m \u001b[0mh_tm1\u001b[0m \u001b[1;33m+\u001b[0m \u001b[1;33m(\u001b[0m\u001b[1;36m1\u001b[0m \u001b[1;33m-\u001b[0m \u001b[0mz\u001b[0m\u001b[1;33m)\u001b[0m \u001b[1;33m*\u001b[0m \u001b[0mhh\u001b[0m\u001b[1;33m\u001b[0m\u001b[1;33m\u001b[0m\u001b[0m\n\u001b[0m\u001b[0;32m    619\u001b[0m     \u001b[1;32mreturn\u001b[0m \u001b[0mh\u001b[0m\u001b[1;33m,\u001b[0m \u001b[1;33m[\u001b[0m\u001b[0mh\u001b[0m\u001b[1;33m]\u001b[0m\u001b[1;33m\u001b[0m\u001b[1;33m\u001b[0m\u001b[0m\n\u001b[0;32m    620\u001b[0m \u001b[1;33m\u001b[0m\u001b[0m\n",
      "\u001b[1;32m~\\AppData\\Roaming\\Python\\Python38\\site-packages\\tensorflow\\python\\ops\\math_ops.py\u001b[0m in \u001b[0;36mr_binary_op_wrapper\u001b[1;34m(y, x)\u001b[0m\n\u001b[0;32m   1193\u001b[0m     \u001b[1;32mwith\u001b[0m \u001b[0mops\u001b[0m\u001b[1;33m.\u001b[0m\u001b[0mname_scope\u001b[0m\u001b[1;33m(\u001b[0m\u001b[1;32mNone\u001b[0m\u001b[1;33m,\u001b[0m \u001b[0mop_name\u001b[0m\u001b[1;33m,\u001b[0m \u001b[1;33m[\u001b[0m\u001b[0mx\u001b[0m\u001b[1;33m,\u001b[0m \u001b[0my\u001b[0m\u001b[1;33m]\u001b[0m\u001b[1;33m)\u001b[0m \u001b[1;32mas\u001b[0m \u001b[0mname\u001b[0m\u001b[1;33m:\u001b[0m\u001b[1;33m\u001b[0m\u001b[1;33m\u001b[0m\u001b[0m\n\u001b[0;32m   1194\u001b[0m       \u001b[0mx\u001b[0m \u001b[1;33m=\u001b[0m \u001b[0mops\u001b[0m\u001b[1;33m.\u001b[0m\u001b[0mconvert_to_tensor\u001b[0m\u001b[1;33m(\u001b[0m\u001b[0mx\u001b[0m\u001b[1;33m,\u001b[0m \u001b[0mdtype\u001b[0m\u001b[1;33m=\u001b[0m\u001b[0my\u001b[0m\u001b[1;33m.\u001b[0m\u001b[0mdtype\u001b[0m\u001b[1;33m.\u001b[0m\u001b[0mbase_dtype\u001b[0m\u001b[1;33m,\u001b[0m \u001b[0mname\u001b[0m\u001b[1;33m=\u001b[0m\u001b[1;34m\"x\"\u001b[0m\u001b[1;33m)\u001b[0m\u001b[1;33m\u001b[0m\u001b[1;33m\u001b[0m\u001b[0m\n\u001b[1;32m-> 1195\u001b[1;33m       \u001b[1;32mreturn\u001b[0m \u001b[0mfunc\u001b[0m\u001b[1;33m(\u001b[0m\u001b[0mx\u001b[0m\u001b[1;33m,\u001b[0m \u001b[0my\u001b[0m\u001b[1;33m,\u001b[0m \u001b[0mname\u001b[0m\u001b[1;33m=\u001b[0m\u001b[0mname\u001b[0m\u001b[1;33m)\u001b[0m\u001b[1;33m\u001b[0m\u001b[1;33m\u001b[0m\u001b[0m\n\u001b[0m\u001b[0;32m   1196\u001b[0m \u001b[1;33m\u001b[0m\u001b[0m\n\u001b[0;32m   1197\u001b[0m   \u001b[1;31m# Propagate func.__doc__ to the wrappers\u001b[0m\u001b[1;33m\u001b[0m\u001b[1;33m\u001b[0m\u001b[1;33m\u001b[0m\u001b[0m\n",
      "\u001b[1;32m~\\AppData\\Roaming\\Python\\Python38\\site-packages\\tensorflow\\python\\util\\dispatch.py\u001b[0m in \u001b[0;36mwrapper\u001b[1;34m(*args, **kwargs)\u001b[0m\n\u001b[0;32m    199\u001b[0m     \u001b[1;34m\"\"\"Call target, and fall back on dispatchers if there is a TypeError.\"\"\"\u001b[0m\u001b[1;33m\u001b[0m\u001b[1;33m\u001b[0m\u001b[0m\n\u001b[0;32m    200\u001b[0m     \u001b[1;32mtry\u001b[0m\u001b[1;33m:\u001b[0m\u001b[1;33m\u001b[0m\u001b[1;33m\u001b[0m\u001b[0m\n\u001b[1;32m--> 201\u001b[1;33m       \u001b[1;32mreturn\u001b[0m \u001b[0mtarget\u001b[0m\u001b[1;33m(\u001b[0m\u001b[1;33m*\u001b[0m\u001b[0margs\u001b[0m\u001b[1;33m,\u001b[0m \u001b[1;33m**\u001b[0m\u001b[0mkwargs\u001b[0m\u001b[1;33m)\u001b[0m\u001b[1;33m\u001b[0m\u001b[1;33m\u001b[0m\u001b[0m\n\u001b[0m\u001b[0;32m    202\u001b[0m     \u001b[1;32mexcept\u001b[0m \u001b[1;33m(\u001b[0m\u001b[0mTypeError\u001b[0m\u001b[1;33m,\u001b[0m \u001b[0mValueError\u001b[0m\u001b[1;33m)\u001b[0m\u001b[1;33m:\u001b[0m\u001b[1;33m\u001b[0m\u001b[1;33m\u001b[0m\u001b[0m\n\u001b[0;32m    203\u001b[0m       \u001b[1;31m# Note: convert_to_eager_tensor currently raises a ValueError, not a\u001b[0m\u001b[1;33m\u001b[0m\u001b[1;33m\u001b[0m\u001b[1;33m\u001b[0m\u001b[0m\n",
      "\u001b[1;32m~\\AppData\\Roaming\\Python\\Python38\\site-packages\\tensorflow\\python\\ops\\math_ops.py\u001b[0m in \u001b[0;36msubtract\u001b[1;34m(x, y, name)\u001b[0m\n\u001b[0;32m    559\u001b[0m     \u001b[0mA\u001b[0m\u001b[0;31m \u001b[0m\u001b[0;31m`\u001b[0m\u001b[0mTensor\u001b[0m\u001b[0;31m`\u001b[0m\u001b[1;33m.\u001b[0m \u001b[0mHas\u001b[0m \u001b[0mthe\u001b[0m \u001b[0msame\u001b[0m \u001b[0mtype\u001b[0m \u001b[1;32mas\u001b[0m \u001b[0mx\u001b[0m\u001b[1;33m.\u001b[0m\u001b[1;33m\u001b[0m\u001b[1;33m\u001b[0m\u001b[0m\n\u001b[0;32m    560\u001b[0m   \"\"\"\n\u001b[1;32m--> 561\u001b[1;33m   \u001b[1;32mreturn\u001b[0m \u001b[0mgen_math_ops\u001b[0m\u001b[1;33m.\u001b[0m\u001b[0msub\u001b[0m\u001b[1;33m(\u001b[0m\u001b[0mx\u001b[0m\u001b[1;33m,\u001b[0m \u001b[0my\u001b[0m\u001b[1;33m,\u001b[0m \u001b[0mname\u001b[0m\u001b[1;33m)\u001b[0m\u001b[1;33m\u001b[0m\u001b[1;33m\u001b[0m\u001b[0m\n\u001b[0m\u001b[0;32m    562\u001b[0m \u001b[1;33m\u001b[0m\u001b[0m\n\u001b[0;32m    563\u001b[0m \u001b[1;33m\u001b[0m\u001b[0m\n",
      "\u001b[1;32m~\\AppData\\Roaming\\Python\\Python38\\site-packages\\tensorflow\\python\\ops\\gen_math_ops.py\u001b[0m in \u001b[0;36msub\u001b[1;34m(x, y, name)\u001b[0m\n\u001b[0;32m  10300\u001b[0m   \u001b[1;32mif\u001b[0m \u001b[0mtld\u001b[0m\u001b[1;33m.\u001b[0m\u001b[0mis_eager\u001b[0m\u001b[1;33m:\u001b[0m\u001b[1;33m\u001b[0m\u001b[1;33m\u001b[0m\u001b[0m\n\u001b[0;32m  10301\u001b[0m     \u001b[1;32mtry\u001b[0m\u001b[1;33m:\u001b[0m\u001b[1;33m\u001b[0m\u001b[1;33m\u001b[0m\u001b[0m\n\u001b[1;32m> 10302\u001b[1;33m       _result = pywrap_tfe.TFE_Py_FastPathExecute(\n\u001b[0m\u001b[0;32m  10303\u001b[0m         _ctx, \"Sub\", name, x, y)\n\u001b[0;32m  10304\u001b[0m       \u001b[1;32mreturn\u001b[0m \u001b[0m_result\u001b[0m\u001b[1;33m\u001b[0m\u001b[1;33m\u001b[0m\u001b[0m\n",
      "\u001b[1;31mKeyboardInterrupt\u001b[0m: "
     ]
    }
   ],
   "source": [
    "if path.exists('synthesizer_stock.pkl'):\n",
    "    synth = TimeGAN.load('synthesizer_stock.pkl')\n",
    "else:\n",
    "    synth = TimeGAN(model_parameters=gan_args, hidden_dim=24, seq_len=seq_len, n_seq=n_seq, gamma=1)\n",
    "    synth.train(stock_data, train_steps=100000)\n",
    "    synth.save('synthesizer_stock.pkl')"
   ]
  },
  {
   "cell_type": "markdown",
   "metadata": {
    "id": "nPhHqs3Y3Zxs",
    "pycharm": {
     "name": "#%% md\n"
    }
   },
   "source": [
    "### The generated synthetic stock data"
   ]
  },
  {
   "cell_type": "code",
   "execution_count": null,
   "metadata": {
    "id": "EHl6KABj3Zxs",
    "jupyter": {
     "outputs_hidden": false
    },
    "outputId": "17fe6676-ed44-4751-a867-eb37e7e6e534",
    "pycharm": {
     "name": "#%%\n"
    }
   },
   "outputs": [],
   "source": [
    "synth_data = synth.sample(len(stock_data))\n",
    "print(synth_data.shape)"
   ]
  },
  {
   "cell_type": "code",
   "execution_count": null,
   "metadata": {
    "id": "9eon_q8w3Zxt",
    "jupyter": {
     "outputs_hidden": false
    },
    "outputId": "53da26e3-71d8-4fc7-819c-a82e9dca55e5",
    "pycharm": {
     "name": "#%%\n"
    }
   },
   "outputs": [],
   "source": [
    "#Reshaping the data\n",
    "cols = ['Open','High','Low','Close','Adj Close','Volume']\n",
    "\n",
    "#Plotting some generated samples. Both Synthetic and Original data are still standartized with values between [0,1]\n",
    "fig, axes = plt.subplots(nrows=3, ncols=2, figsize=(15, 10))\n",
    "axes=axes.flatten()\n",
    "\n",
    "time = list(range(1,25)) \n",
    "obs = np.random.randint(len(stock_data))\n",
    "\n",
    "for j, col in enumerate(cols):\n",
    "    df = pd.DataFrame({'Real': stock_data[obs][:, j],\n",
    "                   'Synthetic': synth_data[obs][:, j]})\n",
    "    df.plot(ax=axes[j],\n",
    "            title = col,\n",
    "            secondary_y='Synthetic data', style=['-', '--'])\n",
    "fig.tight_layout()"
   ]
  },
  {
   "cell_type": "markdown",
   "metadata": {
    "id": "MpPSFGIH3Zxt",
    "pycharm": {
     "name": "#%% md\n"
    }
   },
   "source": [
    "#### Evaluation of the generated synthetic data (PCA and TSNE)"
   ]
  },
  {
   "cell_type": "code",
   "execution_count": null,
   "metadata": {
    "id": "uu6YEAZC3Zxt",
    "jupyter": {
     "outputs_hidden": false
    },
    "pycharm": {
     "name": "#%%\n"
    }
   },
   "outputs": [],
   "source": [
    "from sklearn.decomposition import PCA\n",
    "from sklearn.manifold import TSNE\n",
    "\n",
    "sample_size = 250\n",
    "idx = np.random.permutation(len(stock_data))[:sample_size]\n",
    "\n",
    "real_sample = np.asarray(stock_data)[idx]\n",
    "synthetic_sample = np.asarray(synth_data)[idx]\n",
    "\n",
    "#for the purpose of comparision we need the data to be 2-Dimensional. For that reason we are going to use only two componentes for both the PCA and TSNE.\n",
    "synth_data_reduced = real_sample.reshape(-1, seq_len)\n",
    "stock_data_reduced = np.asarray(synthetic_sample).reshape(-1,seq_len)\n",
    "\n",
    "n_components = 2\n",
    "pca = PCA(n_components=n_components)\n",
    "tsne = TSNE(n_components=n_components, n_iter=300)\n",
    "\n",
    "#The fit of the methods must be done only using the real sequential data\n",
    "pca.fit(stock_data_reduced)\n",
    "\n",
    "pca_real = pd.DataFrame(pca.transform(stock_data_reduced))\n",
    "pca_synth = pd.DataFrame(pca.transform(synth_data_reduced))\n",
    "\n",
    "data_reduced = np.concatenate((stock_data_reduced, synth_data_reduced), axis=0)\n",
    "tsne_results = pd.DataFrame(tsne.fit_transform(data_reduced))"
   ]
  },
  {
   "cell_type": "code",
   "execution_count": null,
   "metadata": {
    "id": "PDkjDOdI3Zxu",
    "jupyter": {
     "outputs_hidden": false
    },
    "outputId": "42b5b859-6ee7-4200-f53f-b3c23daf39ab",
    "pycharm": {
     "name": "#%%\n"
    }
   },
   "outputs": [],
   "source": [
    "#The scatter plots for PCA and TSNE methods\n",
    "import matplotlib.gridspec as gridspec\n",
    "fig = plt.figure(constrained_layout=True, figsize=(20,10))\n",
    "spec = gridspec.GridSpec(ncols=2, nrows=1, figure=fig)\n",
    "\n",
    "#TSNE scatter plot\n",
    "ax = fig.add_subplot(spec[0,0])\n",
    "ax.set_title('PCA results',\n",
    "             fontsize=20,\n",
    "             color='red',\n",
    "             pad=10)\n",
    "\n",
    "#PCA scatter plot\n",
    "plt.scatter(pca_real.iloc[:, 0].values, pca_real.iloc[:,1].values,\n",
    "            c='black', alpha=0.2, label='Original')\n",
    "plt.scatter(pca_synth.iloc[:,0], pca_synth.iloc[:,1],\n",
    "            c='red', alpha=0.2, label='Synthetic')\n",
    "ax.legend()\n",
    "\n",
    "ax2 = fig.add_subplot(spec[0,1])\n",
    "ax2.set_title('TSNE results',\n",
    "              fontsize=20,\n",
    "              color='red',\n",
    "              pad=10)\n",
    "\n",
    "plt.scatter(tsne_results.iloc[:sample_size, 0].values, tsne_results.iloc[:sample_size,1].values,\n",
    "            c='black', alpha=0.2, label='Original')\n",
    "plt.scatter(tsne_results.iloc[sample_size:,0], tsne_results.iloc[sample_size:,1],\n",
    "            c='red', alpha=0.2, label='Synthetic')\n",
    "\n",
    "ax2.legend()\n",
    "\n",
    "fig.suptitle('Validating synthetic vs real data diversity and distributions',\n",
    "             fontsize=16,\n",
    "             color='grey')"
   ]
  },
  {
   "cell_type": "markdown",
   "metadata": {
    "id": "t71mW1Y_3Zxu",
    "pycharm": {
     "name": "#%% md\n"
    }
   },
   "source": [
    "#### Train synthetic test real (TSTR)"
   ]
  },
  {
   "cell_type": "code",
   "execution_count": null,
   "metadata": {
    "id": "qwLoBIlY3Zxu",
    "jupyter": {
     "outputs_hidden": false
    },
    "pycharm": {
     "name": "#%%\n"
    }
   },
   "outputs": [],
   "source": [
    "from tensorflow.keras import Input, Sequential\n",
    "from tensorflow.keras.callbacks import EarlyStopping\n",
    "from tensorflow.keras.layers import GRU, Dense\n",
    "from tensorflow.keras.optimizers import Adam\n",
    "from tensorflow.keras.losses import MeanAbsoluteError\n",
    "\n",
    "#First implement a simple RNN model for prediction\n",
    "def RNN_regression(units):\n",
    "    opt = Adam(name='AdamOpt')\n",
    "    loss = MeanAbsoluteError(name='MAE')\n",
    "    model = Sequential()\n",
    "    model.add(GRU(units=units,\n",
    "                  name=f'RNN_1'))\n",
    "    model.add(Dense(units=6,\n",
    "                    activation='sigmoid',\n",
    "                    name='OUT'))\n",
    "    model.compile(optimizer=opt, loss=loss)\n",
    "    return model"
   ]
  },
  {
   "cell_type": "code",
   "execution_count": null,
   "metadata": {
    "id": "qI50DvE83Zxv",
    "jupyter": {
     "outputs_hidden": false
    },
    "outputId": "e50b9c1b-9e01-4fa9-b102-6ae7087aea72",
    "pycharm": {
     "name": "#%%\n"
    }
   },
   "outputs": [],
   "source": [
    "#Prepare the dataset for the regression model\n",
    "stock_data=np.asarray(stock_data)\n",
    "synth_data = synth_data[:len(stock_data)]\n",
    "n_events = len(stock_data)\n",
    "\n",
    "#Split data on train and test\n",
    "idx = np.arange(n_events)\n",
    "n_train = int(.75*n_events)\n",
    "train_idx = idx[:n_train]\n",
    "test_idx = idx[n_train:]\n",
    "\n",
    "#Define the X for synthetic and real data\n",
    "X_stock_train = stock_data[train_idx, :seq_len-1, :]\n",
    "X_synth_train = synth_data[train_idx, :seq_len-1, :]\n",
    "\n",
    "X_stock_test = stock_data[test_idx, :seq_len-1, :]\n",
    "y_stock_test = stock_data[test_idx, -1, :]\n",
    "\n",
    "#Define the y for synthetic and real datasets\n",
    "y_stock_train = stock_data[train_idx, -1, :]\n",
    "y_synth_train = synth_data[train_idx, -1, :]\n",
    "\n",
    "print('Synthetic X train: {}'.format(X_synth_train.shape))\n",
    "print('Real X train: {}'.format(X_stock_train.shape))\n",
    "\n",
    "print('Synthetic y train: {}'.format(y_synth_train.shape))\n",
    "print('Real y train: {}'.format(y_stock_train.shape))\n",
    "\n",
    "print('Real X test: {}'.format(X_stock_test.shape))\n",
    "print('Real y test: {}'.format(y_stock_test.shape))"
   ]
  },
  {
   "cell_type": "code",
   "execution_count": null,
   "metadata": {
    "id": "Zy-Piqsf3Zxv",
    "jupyter": {
     "outputs_hidden": false
    },
    "outputId": "23bdd2cf-5f2c-4d11-ffe7-a85e31644a45",
    "pycharm": {
     "name": "#%%\n"
    }
   },
   "outputs": [],
   "source": [
    "#Training the model with the real train data\n",
    "ts_real = RNN_regression(12)\n",
    "early_stopping = EarlyStopping(monitor='val_loss')\n",
    "\n",
    "real_train = ts_real.fit(x=X_stock_train,\n",
    "                          y=y_stock_train,\n",
    "                          validation_data=(X_stock_test, y_stock_test),\n",
    "                          epochs=200,\n",
    "                          batch_size=128,\n",
    "                          callbacks=[early_stopping])"
   ]
  },
  {
   "cell_type": "code",
   "execution_count": null,
   "metadata": {
    "id": "t9essKbt3Zxv",
    "jupyter": {
     "outputs_hidden": false
    },
    "outputId": "ecca48fb-70ac-4662-a582-96d55fb84eb8",
    "pycharm": {
     "name": "#%%\n"
    }
   },
   "outputs": [],
   "source": [
    "#Training the model with the synthetic data\n",
    "ts_synth = RNN_regression(12)\n",
    "synth_train = ts_synth.fit(x=X_synth_train,\n",
    "                          y=y_synth_train,\n",
    "                          validation_data=(X_stock_test, y_stock_test),\n",
    "                          epochs=200,\n",
    "                          batch_size=128,\n",
    "                          callbacks=[early_stopping])"
   ]
  },
  {
   "cell_type": "code",
   "execution_count": null,
   "metadata": {
    "id": "LjFrLaYT3Zxw",
    "jupyter": {
     "outputs_hidden": false
    },
    "outputId": "6efdd916-3c32-4d8a-a4b8-7aab0c46ecd7",
    "pycharm": {
     "name": "#%%\n"
    }
   },
   "outputs": [],
   "source": [
    "#Summarize the metrics here as a pandas dataframe\n",
    "from sklearn.metrics import r2_score, mean_absolute_error, mean_squared_log_error\n",
    "real_predictions = ts_real.predict(X_stock_test)\n",
    "synth_predictions = ts_synth.predict(X_stock_test)\n",
    "\n",
    "metrics_dict = {'r2': [r2_score(y_stock_test, real_predictions),\n",
    "                       r2_score(y_stock_test, synth_predictions)],\n",
    "                'MAE': [mean_absolute_error(y_stock_test, real_predictions),\n",
    "                        mean_absolute_error(y_stock_test, synth_predictions)],\n",
    "                'MRLE': [mean_squared_log_error(y_stock_test, real_predictions),\n",
    "                         mean_squared_log_error(y_stock_test, synth_predictions)]}\n",
    "\n",
    "results = pd.DataFrame(metrics_dict, index=['Real', 'Synthetic'])\n",
    "\n",
    "results"
   ]
  }
 ],
 "metadata": {
  "colab": {
   "collapsed_sections": [],
   "name": "TimeGAN - Synthetic stock data.ipynb",
   "provenance": []
  },
  "kernelspec": {
   "display_name": "pysynthetic",
   "language": "python",
   "name": "pysynthetic"
  },
  "language_info": {
   "codemirror_mode": {
    "name": "ipython",
    "version": 3
   },
   "file_extension": ".py",
   "mimetype": "text/x-python",
   "name": "python",
   "nbconvert_exporter": "python",
   "pygments_lexer": "ipython3",
   "version": "3.8.5"
  }
 },
 "nbformat": 4,
 "nbformat_minor": 1
}
